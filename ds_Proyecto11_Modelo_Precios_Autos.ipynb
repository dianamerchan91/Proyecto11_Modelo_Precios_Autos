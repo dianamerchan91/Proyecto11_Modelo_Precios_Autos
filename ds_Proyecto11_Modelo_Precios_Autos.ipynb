{
 "cells": [
  {
   "cell_type": "markdown",
   "metadata": {},
   "source": [
    "# Desarrollo de modelo de machine learning para predecir precios de autos usados en la aplicación Rusty Bargain"
   ]
  },
  {
   "cell_type": "markdown",
   "metadata": {
    "toc": true
   },
   "source": [
    "<h1>Tabla de contenidos<span class=\"tocSkip\"></span></h1>\n",
    "<div class=\"toc\"><ul class=\"toc-item\"><li><span><a href=\"#Introducción\" data-toc-modified-id=\"Introducción-1\"><span class=\"toc-item-num\">1&nbsp;&nbsp;</span>Introducción</a></span><ul class=\"toc-item\"><li><span><a href=\"#Objetivos\" data-toc-modified-id=\"Objetivos-1.1\"><span class=\"toc-item-num\">1.1&nbsp;&nbsp;</span>Objetivos</a></span></li></ul></li><li><span><a href=\"#Inicialización\" data-toc-modified-id=\"Inicialización-2\"><span class=\"toc-item-num\">2&nbsp;&nbsp;</span>Inicialización</a></span><ul class=\"toc-item\"><li><span><a href=\"#Cargar-datos\" data-toc-modified-id=\"Cargar-datos-2.1\"><span class=\"toc-item-num\">2.1&nbsp;&nbsp;</span>Cargar datos</a></span></li><li><span><a href=\"#Explorar-datos-iniciales\" data-toc-modified-id=\"Explorar-datos-iniciales-2.2\"><span class=\"toc-item-num\">2.2&nbsp;&nbsp;</span>Explorar datos iniciales</a></span></li><li><span><a href=\"#Visualización-datos\" data-toc-modified-id=\"Visualización-datos-2.3\"><span class=\"toc-item-num\">2.3&nbsp;&nbsp;</span>Visualización datos</a></span></li><li><span><a href=\"#Conclusiones\" data-toc-modified-id=\"Conclusiones-2.4\"><span class=\"toc-item-num\">2.4&nbsp;&nbsp;</span>Conclusiones</a></span></li></ul></li><li><span><a href=\"#Preparación-de-datos\" data-toc-modified-id=\"Preparación-de-datos-3\"><span class=\"toc-item-num\">3&nbsp;&nbsp;</span>Preparación de datos</a></span><ul class=\"toc-item\"><li><span><a href=\"#Valores-duplicados\" data-toc-modified-id=\"Valores-duplicados-3.1\"><span class=\"toc-item-num\">3.1&nbsp;&nbsp;</span>Valores duplicados</a></span></li><li><span><a href=\"#Corrección-nombres-de-columnas\" data-toc-modified-id=\"Corrección-nombres-de-columnas-3.2\"><span class=\"toc-item-num\">3.2&nbsp;&nbsp;</span>Corrección nombres de columnas</a></span></li><li><span><a href=\"#Corrección-tipo-de-datos\" data-toc-modified-id=\"Corrección-tipo-de-datos-3.3\"><span class=\"toc-item-num\">3.3&nbsp;&nbsp;</span>Corrección tipo de datos</a></span></li><li><span><a href=\"#Valores-ausentes\" data-toc-modified-id=\"Valores-ausentes-3.4\"><span class=\"toc-item-num\">3.4&nbsp;&nbsp;</span>Valores ausentes</a></span><ul class=\"toc-item\"><li><span><a href=\"#Valores-ausentes-gearbox\" data-toc-modified-id=\"Valores-ausentes-gearbox-3.4.1\"><span class=\"toc-item-num\">3.4.1&nbsp;&nbsp;</span>Valores ausentes <code>gearbox</code></a></span></li><li><span><a href=\"#Valores-ausentes-vehicle_type\" data-toc-modified-id=\"Valores-ausentes-vehicle_type-3.4.2\"><span class=\"toc-item-num\">3.4.2&nbsp;&nbsp;</span>Valores ausentes <code>vehicle_type</code></a></span></li><li><span><a href=\"#Valores-ausentes-fuel_type\" data-toc-modified-id=\"Valores-ausentes-fuel_type-3.4.3\"><span class=\"toc-item-num\">3.4.3&nbsp;&nbsp;</span>Valores ausentes <code>fuel_type</code></a></span></li><li><span><a href=\"#Valores-ausentes-model\" data-toc-modified-id=\"Valores-ausentes-model-3.4.4\"><span class=\"toc-item-num\">3.4.4&nbsp;&nbsp;</span>Valores ausentes <code>model</code></a></span></li><li><span><a href=\"#Valores-ausentes-not_repaired\" data-toc-modified-id=\"Valores-ausentes-not_repaired-3.4.5\"><span class=\"toc-item-num\">3.4.5&nbsp;&nbsp;</span>Valores ausentes <code>not_repaired</code></a></span></li></ul></li><li><span><a href=\"#Valores-atípicos-y-artefactos\" data-toc-modified-id=\"Valores-atípicos-y-artefactos-3.5\"><span class=\"toc-item-num\">3.5&nbsp;&nbsp;</span>Valores atípicos y artefactos</a></span><ul class=\"toc-item\"><li><span><a href=\"#Valores-atípicos-registration_year\" data-toc-modified-id=\"Valores-atípicos-registration_year-3.5.1\"><span class=\"toc-item-num\">3.5.1&nbsp;&nbsp;</span>Valores atípicos <code>registration_year</code></a></span></li><li><span><a href=\"#Valores-atípicos-price\" data-toc-modified-id=\"Valores-atípicos-price-3.5.2\"><span class=\"toc-item-num\">3.5.2&nbsp;&nbsp;</span>Valores atípicos <code>price</code></a></span></li><li><span><a href=\"#Valores-atípicos-power\" data-toc-modified-id=\"Valores-atípicos-power-3.5.3\"><span class=\"toc-item-num\">3.5.3&nbsp;&nbsp;</span>Valores atípicos <code>power</code></a></span></li><li><span><a href=\"#Valores-atípicos-registration_month\" data-toc-modified-id=\"Valores-atípicos-registration_month-3.5.4\"><span class=\"toc-item-num\">3.5.4&nbsp;&nbsp;</span>Valores atípicos <code>registration_month</code></a></span></li><li><span><a href=\"#Cálculo-edad-del-vehículo\" data-toc-modified-id=\"Cálculo-edad-del-vehículo-3.5.5\"><span class=\"toc-item-num\">3.5.5&nbsp;&nbsp;</span>Cálculo edad del vehículo</a></span></li><li><span><a href=\"#Dataset-Final\" data-toc-modified-id=\"Dataset-Final-3.5.6\"><span class=\"toc-item-num\">3.5.6&nbsp;&nbsp;</span>Dataset Final</a></span></li></ul></li></ul></li><li><span><a href=\"#Entrenamiento-del-modelo\" data-toc-modified-id=\"Entrenamiento-del-modelo-4\"><span class=\"toc-item-num\">4&nbsp;&nbsp;</span>Entrenamiento del modelo</a></span><ul class=\"toc-item\"><li><span><a href=\"#Regresión-Lineal\" data-toc-modified-id=\"Regresión-Lineal-4.1\"><span class=\"toc-item-num\">4.1&nbsp;&nbsp;</span>Regresión Lineal</a></span></li><li><span><a href=\"#Árbol-de-Decisión\" data-toc-modified-id=\"Árbol-de-Decisión-4.2\"><span class=\"toc-item-num\">4.2&nbsp;&nbsp;</span>Árbol de Decisión</a></span></li><li><span><a href=\"#Bosque-Aleatorio\" data-toc-modified-id=\"Bosque-Aleatorio-4.3\"><span class=\"toc-item-num\">4.3&nbsp;&nbsp;</span>Bosque Aleatorio</a></span></li><li><span><a href=\"#CatBoost\" data-toc-modified-id=\"CatBoost-4.4\"><span class=\"toc-item-num\">4.4&nbsp;&nbsp;</span>CatBoost</a></span></li><li><span><a href=\"#LightGBM\" data-toc-modified-id=\"LightGBM-4.5\"><span class=\"toc-item-num\">4.5&nbsp;&nbsp;</span>LightGBM</a></span></li><li><span><a href=\"#XGBoost\" data-toc-modified-id=\"XGBoost-4.6\"><span class=\"toc-item-num\">4.6&nbsp;&nbsp;</span>XGBoost</a></span></li></ul></li><li><span><a href=\"#Análisis-de-modelos\" data-toc-modified-id=\"Análisis-de-modelos-5\"><span class=\"toc-item-num\">5&nbsp;&nbsp;</span>Análisis de modelos</a></span></li><li><span><a href=\"#Conclusiones\" data-toc-modified-id=\"Conclusiones-6\"><span class=\"toc-item-num\">6&nbsp;&nbsp;</span>Conclusiones</a></span></li></ul></div>"
   ]
  },
  {
   "cell_type": "markdown",
   "metadata": {},
   "source": [
    "## Introducción\n",
    "\n",
    "El servicio de venta de autos usados Rusty Bargain está desarrollando una aplicación para atraer nuevos clientes. Gracias a esta app, los usuarios podrán averiguar rápidamente el valor de mercado de su coche. La mejor opción será la construcción de un modelo de machine learning que permita predecir el precio del vehículo, para esto la compañía nos ha brindado acceso al historial: especificaciones técnicas, versiones de equipamiento y precios. A partir de esta información se creará un modelo que realice predicciones en base a los tres intereses que busca la empresa: calidad de la predicción, velocidad de la predicción y el tiempo requerido para el entrenamiento. \n",
    "\n",
    "### Objetivos\n",
    "\n",
    "1. Desarrollar un modelo de machine learning que cumpla los intereses establecidos por Rusty Bargain: calidad de predicción, velocidad de predicción y tiempo de entrenamiento.\n",
    "2. Entrenar diferentes modelos y ajustar sus hiperparámetros utilizando diferentes métodos de potenciación de gradiente. \n"
   ]
  },
  {
   "cell_type": "markdown",
   "metadata": {},
   "source": [
    "## Inicialización\n",
    "\n",
    "Empezamos importando todas las librerías necesarias para construir nuestro modelo predictivo, en este proyecto trabajaremos con `Pandas`, `Numpy`, `Scikit-Learn`, `Seaborn` y `Matplotlib` que nos permitirán la lectura de archivos, construcción de gráficos y desarrollo de modelos de machine learning. También trabajaremos con métodos de potenciación de gradiente así que instalaremos las librerías `XGBoost`, `LightGBM` y `CatBoost`."
   ]
  },
  {
   "cell_type": "code",
   "execution_count": 1,
   "metadata": {},
   "outputs": [
    {
     "name": "stdout",
     "output_type": "stream",
     "text": [
      "Requirement already satisfied: xgboost in /opt/conda/lib/python3.9/site-packages (1.5.1)\n",
      "Requirement already satisfied: scipy in /opt/conda/lib/python3.9/site-packages (from xgboost) (1.8.0)\n",
      "Requirement already satisfied: numpy in /opt/conda/lib/python3.9/site-packages (from xgboost) (1.21.1)\n",
      "Note: you may need to restart the kernel to use updated packages.\n"
     ]
    }
   ],
   "source": [
    "pip install xgboost"
   ]
  },
  {
   "cell_type": "code",
   "execution_count": 2,
   "metadata": {},
   "outputs": [
    {
     "name": "stdout",
     "output_type": "stream",
     "text": [
      "Requirement already satisfied: catboost in /opt/conda/lib/python3.9/site-packages (1.0.3)\n",
      "Requirement already satisfied: numpy>=1.16.0 in /opt/conda/lib/python3.9/site-packages (from catboost) (1.21.1)\n",
      "Requirement already satisfied: matplotlib in /opt/conda/lib/python3.9/site-packages (from catboost) (3.3.4)\n",
      "Requirement already satisfied: six in /opt/conda/lib/python3.9/site-packages (from catboost) (1.16.0)\n",
      "Requirement already satisfied: scipy in /opt/conda/lib/python3.9/site-packages (from catboost) (1.8.0)\n",
      "Requirement already satisfied: plotly in /opt/conda/lib/python3.9/site-packages (from catboost) (5.4.0)\n",
      "Requirement already satisfied: graphviz in /opt/conda/lib/python3.9/site-packages (from catboost) (0.20)\n",
      "Requirement already satisfied: pandas>=0.24.0 in /opt/conda/lib/python3.9/site-packages (from catboost) (1.2.4)\n",
      "Requirement already satisfied: python-dateutil>=2.7.3 in /opt/conda/lib/python3.9/site-packages (from pandas>=0.24.0->catboost) (2.8.1)\n",
      "Requirement already satisfied: pytz>=2017.3 in /opt/conda/lib/python3.9/site-packages (from pandas>=0.24.0->catboost) (2021.1)\n",
      "Requirement already satisfied: cycler>=0.10 in /opt/conda/lib/python3.9/site-packages (from matplotlib->catboost) (0.11.0)\n",
      "Requirement already satisfied: pyparsing!=2.0.4,!=2.1.2,!=2.1.6,>=2.0.3 in /opt/conda/lib/python3.9/site-packages (from matplotlib->catboost) (2.4.7)\n",
      "Requirement already satisfied: kiwisolver>=1.0.1 in /opt/conda/lib/python3.9/site-packages (from matplotlib->catboost) (1.4.2)\n",
      "Requirement already satisfied: pillow>=6.2.0 in /opt/conda/lib/python3.9/site-packages (from matplotlib->catboost) (8.4.0)\n",
      "Requirement already satisfied: tenacity>=6.2.0 in /opt/conda/lib/python3.9/site-packages (from plotly->catboost) (8.0.1)\n",
      "Note: you may need to restart the kernel to use updated packages.\n"
     ]
    }
   ],
   "source": [
    "pip install catboost"
   ]
  },
  {
   "cell_type": "code",
   "execution_count": 3,
   "metadata": {},
   "outputs": [
    {
     "name": "stdout",
     "output_type": "stream",
     "text": [
      "Requirement already satisfied: lightgbm in /opt/conda/lib/python3.9/site-packages (3.3.1)\n",
      "Requirement already satisfied: scikit-learn!=0.22.0 in /opt/conda/lib/python3.9/site-packages (from lightgbm) (0.24.1)\n",
      "Requirement already satisfied: scipy in /opt/conda/lib/python3.9/site-packages (from lightgbm) (1.8.0)\n",
      "Requirement already satisfied: numpy in /opt/conda/lib/python3.9/site-packages (from lightgbm) (1.21.1)\n",
      "Requirement already satisfied: wheel in /opt/conda/lib/python3.9/site-packages (from lightgbm) (0.36.2)\n",
      "Requirement already satisfied: joblib>=0.11 in /opt/conda/lib/python3.9/site-packages (from scikit-learn!=0.22.0->lightgbm) (1.1.0)\n",
      "Requirement already satisfied: threadpoolctl>=2.0.0 in /opt/conda/lib/python3.9/site-packages (from scikit-learn!=0.22.0->lightgbm) (3.1.0)\n",
      "Note: you may need to restart the kernel to use updated packages.\n"
     ]
    }
   ],
   "source": [
    "pip install lightgbm"
   ]
  },
  {
   "cell_type": "code",
   "execution_count": 4,
   "metadata": {},
   "outputs": [],
   "source": [
    "import numpy as np\n",
    "import pandas as pd\n",
    "import seaborn as sns\n",
    "import matplotlib.pyplot as plt\n",
    "import time\n",
    "\n",
    "from statistics import mode\n",
    "from sklearn.model_selection import train_test_split\n",
    "from sklearn.tree import DecisionTreeRegressor\n",
    "from sklearn.ensemble import RandomForestRegressor\n",
    "from sklearn.linear_model import LinearRegression\n",
    "from sklearn.linear_model import LogisticRegression\n",
    "from sklearn.preprocessing import StandardScaler\n",
    "from sklearn.model_selection import cross_val_score\n",
    "from sklearn.metrics import mean_squared_error\n",
    "from sklearn.model_selection import GridSearchCV\n",
    "from sklearn.preprocessing import OrdinalEncoder\n",
    "\n",
    "from catboost import CatBoostClassifier\n",
    "from xgboost import XGBRegressor\n",
    "from lightgbm import LGBMRegressor"
   ]
  },
  {
   "cell_type": "markdown",
   "metadata": {},
   "source": [
    "### Cargar datos\n",
    "\n",
    "Una vez importadas las librerías, vamos a continuar con la lectura del archivo que contiene la información necesaria para crear nuestro modelo predictivo. Para esto utilizaremos la función `read_csv` de pandas y pasaremos como argumento la dirección del archivo. Guardaremos nuestro dataset como `df`."
   ]
  },
  {
   "cell_type": "code",
   "execution_count": 5,
   "metadata": {},
   "outputs": [],
   "source": [
    "df = pd.read_csv('/datasets/car_data.csv')"
   ]
  },
  {
   "cell_type": "markdown",
   "metadata": {},
   "source": [
    "### Explorar datos iniciales\n",
    "\n",
    "A continuación, realizaremos una exploración inicial de los datos que han sido importados previamente. Rusty Bargain nos ha dado acceso al historial de ventas, en el cual podemos encontrar la siguiente información:\n",
    "\n",
    "**Características**\n",
    "\n",
    "- `DateCrawled` — fecha en la que se descargó el perfil de la base de datos\n",
    "- `VehicleType` — tipo de carrocería del vehículo\n",
    "- `RegistrationYear` — año de matriculación del vehículo\n",
    "- `Gearbox` — tipo de caja de cambios\n",
    "- `Power` — potencia (CV)\n",
    "- `Model` — modelo del vehículo\n",
    "- `Mileage` — kilometraje (medido en km de acuerdo con las especificidades regionales del conjunto de datos)\n",
    "- `RegistrationMonth` — mes de matriculación del vehículo\n",
    "- `FuelType` — tipo de combustible\n",
    "- `Brand` — marca del vehículo\n",
    "- `NotRepaired` — vehículo con o sin reparación\n",
    "- `DateCreated` — fecha de creación del perfil\n",
    "- `NumberOfPictures` — número de fotos del vehículo\n",
    "- `PostalCode` — código postal del propietario del perfil (usuario)\n",
    "- `LastSeen` — fecha de la última vez que el usuario estuvo activo\n",
    "\n",
    "**Objetivo**\n",
    "- `Price` — precio (en euros)"
   ]
  },
  {
   "cell_type": "markdown",
   "metadata": {},
   "source": [
    "Ahora llamaremos al atributo shape y los métodos head, tail e info para analizar más a fondo los datos con los cuales trabajaremos. A su vez, analizaremos la presencia de valores ausentes y duplicados, para esto llamaremos al método isna y sum. "
   ]
  },
  {
   "cell_type": "code",
   "execution_count": 6,
   "metadata": {},
   "outputs": [
    {
     "data": {
      "text/plain": [
       "(354369, 16)"
      ]
     },
     "execution_count": 6,
     "metadata": {},
     "output_type": "execute_result"
    }
   ],
   "source": [
    "df.shape"
   ]
  },
  {
   "cell_type": "code",
   "execution_count": 7,
   "metadata": {},
   "outputs": [
    {
     "data": {
      "text/html": [
       "<div>\n",
       "<style scoped>\n",
       "    .dataframe tbody tr th:only-of-type {\n",
       "        vertical-align: middle;\n",
       "    }\n",
       "\n",
       "    .dataframe tbody tr th {\n",
       "        vertical-align: top;\n",
       "    }\n",
       "\n",
       "    .dataframe thead th {\n",
       "        text-align: right;\n",
       "    }\n",
       "</style>\n",
       "<table border=\"1\" class=\"dataframe\">\n",
       "  <thead>\n",
       "    <tr style=\"text-align: right;\">\n",
       "      <th></th>\n",
       "      <th>DateCrawled</th>\n",
       "      <th>Price</th>\n",
       "      <th>VehicleType</th>\n",
       "      <th>RegistrationYear</th>\n",
       "      <th>Gearbox</th>\n",
       "      <th>Power</th>\n",
       "      <th>Model</th>\n",
       "      <th>Mileage</th>\n",
       "      <th>RegistrationMonth</th>\n",
       "      <th>FuelType</th>\n",
       "      <th>Brand</th>\n",
       "      <th>NotRepaired</th>\n",
       "      <th>DateCreated</th>\n",
       "      <th>NumberOfPictures</th>\n",
       "      <th>PostalCode</th>\n",
       "      <th>LastSeen</th>\n",
       "    </tr>\n",
       "  </thead>\n",
       "  <tbody>\n",
       "    <tr>\n",
       "      <th>0</th>\n",
       "      <td>24/03/2016 11:52</td>\n",
       "      <td>480</td>\n",
       "      <td>NaN</td>\n",
       "      <td>1993</td>\n",
       "      <td>manual</td>\n",
       "      <td>0</td>\n",
       "      <td>golf</td>\n",
       "      <td>150000</td>\n",
       "      <td>0</td>\n",
       "      <td>petrol</td>\n",
       "      <td>volkswagen</td>\n",
       "      <td>NaN</td>\n",
       "      <td>24/03/2016 00:00</td>\n",
       "      <td>0</td>\n",
       "      <td>70435</td>\n",
       "      <td>07/04/2016 03:16</td>\n",
       "    </tr>\n",
       "    <tr>\n",
       "      <th>1</th>\n",
       "      <td>24/03/2016 10:58</td>\n",
       "      <td>18300</td>\n",
       "      <td>coupe</td>\n",
       "      <td>2011</td>\n",
       "      <td>manual</td>\n",
       "      <td>190</td>\n",
       "      <td>NaN</td>\n",
       "      <td>125000</td>\n",
       "      <td>5</td>\n",
       "      <td>gasoline</td>\n",
       "      <td>audi</td>\n",
       "      <td>yes</td>\n",
       "      <td>24/03/2016 00:00</td>\n",
       "      <td>0</td>\n",
       "      <td>66954</td>\n",
       "      <td>07/04/2016 01:46</td>\n",
       "    </tr>\n",
       "    <tr>\n",
       "      <th>2</th>\n",
       "      <td>14/03/2016 12:52</td>\n",
       "      <td>9800</td>\n",
       "      <td>suv</td>\n",
       "      <td>2004</td>\n",
       "      <td>auto</td>\n",
       "      <td>163</td>\n",
       "      <td>grand</td>\n",
       "      <td>125000</td>\n",
       "      <td>8</td>\n",
       "      <td>gasoline</td>\n",
       "      <td>jeep</td>\n",
       "      <td>NaN</td>\n",
       "      <td>14/03/2016 00:00</td>\n",
       "      <td>0</td>\n",
       "      <td>90480</td>\n",
       "      <td>05/04/2016 12:47</td>\n",
       "    </tr>\n",
       "    <tr>\n",
       "      <th>3</th>\n",
       "      <td>17/03/2016 16:54</td>\n",
       "      <td>1500</td>\n",
       "      <td>small</td>\n",
       "      <td>2001</td>\n",
       "      <td>manual</td>\n",
       "      <td>75</td>\n",
       "      <td>golf</td>\n",
       "      <td>150000</td>\n",
       "      <td>6</td>\n",
       "      <td>petrol</td>\n",
       "      <td>volkswagen</td>\n",
       "      <td>no</td>\n",
       "      <td>17/03/2016 00:00</td>\n",
       "      <td>0</td>\n",
       "      <td>91074</td>\n",
       "      <td>17/03/2016 17:40</td>\n",
       "    </tr>\n",
       "    <tr>\n",
       "      <th>4</th>\n",
       "      <td>31/03/2016 17:25</td>\n",
       "      <td>3600</td>\n",
       "      <td>small</td>\n",
       "      <td>2008</td>\n",
       "      <td>manual</td>\n",
       "      <td>69</td>\n",
       "      <td>fabia</td>\n",
       "      <td>90000</td>\n",
       "      <td>7</td>\n",
       "      <td>gasoline</td>\n",
       "      <td>skoda</td>\n",
       "      <td>no</td>\n",
       "      <td>31/03/2016 00:00</td>\n",
       "      <td>0</td>\n",
       "      <td>60437</td>\n",
       "      <td>06/04/2016 10:17</td>\n",
       "    </tr>\n",
       "  </tbody>\n",
       "</table>\n",
       "</div>"
      ],
      "text/plain": [
       "        DateCrawled  Price VehicleType  RegistrationYear Gearbox  Power  \\\n",
       "0  24/03/2016 11:52    480         NaN              1993  manual      0   \n",
       "1  24/03/2016 10:58  18300       coupe              2011  manual    190   \n",
       "2  14/03/2016 12:52   9800         suv              2004    auto    163   \n",
       "3  17/03/2016 16:54   1500       small              2001  manual     75   \n",
       "4  31/03/2016 17:25   3600       small              2008  manual     69   \n",
       "\n",
       "   Model  Mileage  RegistrationMonth  FuelType       Brand NotRepaired  \\\n",
       "0   golf   150000                  0    petrol  volkswagen         NaN   \n",
       "1    NaN   125000                  5  gasoline        audi         yes   \n",
       "2  grand   125000                  8  gasoline        jeep         NaN   \n",
       "3   golf   150000                  6    petrol  volkswagen          no   \n",
       "4  fabia    90000                  7  gasoline       skoda          no   \n",
       "\n",
       "        DateCreated  NumberOfPictures  PostalCode          LastSeen  \n",
       "0  24/03/2016 00:00                 0       70435  07/04/2016 03:16  \n",
       "1  24/03/2016 00:00                 0       66954  07/04/2016 01:46  \n",
       "2  14/03/2016 00:00                 0       90480  05/04/2016 12:47  \n",
       "3  17/03/2016 00:00                 0       91074  17/03/2016 17:40  \n",
       "4  31/03/2016 00:00                 0       60437  06/04/2016 10:17  "
      ]
     },
     "execution_count": 7,
     "metadata": {},
     "output_type": "execute_result"
    }
   ],
   "source": [
    "df.head()"
   ]
  },
  {
   "cell_type": "code",
   "execution_count": 8,
   "metadata": {},
   "outputs": [
    {
     "data": {
      "text/html": [
       "<div>\n",
       "<style scoped>\n",
       "    .dataframe tbody tr th:only-of-type {\n",
       "        vertical-align: middle;\n",
       "    }\n",
       "\n",
       "    .dataframe tbody tr th {\n",
       "        vertical-align: top;\n",
       "    }\n",
       "\n",
       "    .dataframe thead th {\n",
       "        text-align: right;\n",
       "    }\n",
       "</style>\n",
       "<table border=\"1\" class=\"dataframe\">\n",
       "  <thead>\n",
       "    <tr style=\"text-align: right;\">\n",
       "      <th></th>\n",
       "      <th>DateCrawled</th>\n",
       "      <th>Price</th>\n",
       "      <th>VehicleType</th>\n",
       "      <th>RegistrationYear</th>\n",
       "      <th>Gearbox</th>\n",
       "      <th>Power</th>\n",
       "      <th>Model</th>\n",
       "      <th>Mileage</th>\n",
       "      <th>RegistrationMonth</th>\n",
       "      <th>FuelType</th>\n",
       "      <th>Brand</th>\n",
       "      <th>NotRepaired</th>\n",
       "      <th>DateCreated</th>\n",
       "      <th>NumberOfPictures</th>\n",
       "      <th>PostalCode</th>\n",
       "      <th>LastSeen</th>\n",
       "    </tr>\n",
       "  </thead>\n",
       "  <tbody>\n",
       "    <tr>\n",
       "      <th>354364</th>\n",
       "      <td>21/03/2016 09:50</td>\n",
       "      <td>0</td>\n",
       "      <td>NaN</td>\n",
       "      <td>2005</td>\n",
       "      <td>manual</td>\n",
       "      <td>0</td>\n",
       "      <td>colt</td>\n",
       "      <td>150000</td>\n",
       "      <td>7</td>\n",
       "      <td>petrol</td>\n",
       "      <td>mitsubishi</td>\n",
       "      <td>yes</td>\n",
       "      <td>21/03/2016 00:00</td>\n",
       "      <td>0</td>\n",
       "      <td>2694</td>\n",
       "      <td>21/03/2016 10:42</td>\n",
       "    </tr>\n",
       "    <tr>\n",
       "      <th>354365</th>\n",
       "      <td>14/03/2016 17:48</td>\n",
       "      <td>2200</td>\n",
       "      <td>NaN</td>\n",
       "      <td>2005</td>\n",
       "      <td>NaN</td>\n",
       "      <td>0</td>\n",
       "      <td>NaN</td>\n",
       "      <td>20000</td>\n",
       "      <td>1</td>\n",
       "      <td>NaN</td>\n",
       "      <td>sonstige_autos</td>\n",
       "      <td>NaN</td>\n",
       "      <td>14/03/2016 00:00</td>\n",
       "      <td>0</td>\n",
       "      <td>39576</td>\n",
       "      <td>06/04/2016 00:46</td>\n",
       "    </tr>\n",
       "    <tr>\n",
       "      <th>354366</th>\n",
       "      <td>05/03/2016 19:56</td>\n",
       "      <td>1199</td>\n",
       "      <td>convertible</td>\n",
       "      <td>2000</td>\n",
       "      <td>auto</td>\n",
       "      <td>101</td>\n",
       "      <td>fortwo</td>\n",
       "      <td>125000</td>\n",
       "      <td>3</td>\n",
       "      <td>petrol</td>\n",
       "      <td>smart</td>\n",
       "      <td>no</td>\n",
       "      <td>05/03/2016 00:00</td>\n",
       "      <td>0</td>\n",
       "      <td>26135</td>\n",
       "      <td>11/03/2016 18:17</td>\n",
       "    </tr>\n",
       "    <tr>\n",
       "      <th>354367</th>\n",
       "      <td>19/03/2016 18:57</td>\n",
       "      <td>9200</td>\n",
       "      <td>bus</td>\n",
       "      <td>1996</td>\n",
       "      <td>manual</td>\n",
       "      <td>102</td>\n",
       "      <td>transporter</td>\n",
       "      <td>150000</td>\n",
       "      <td>3</td>\n",
       "      <td>gasoline</td>\n",
       "      <td>volkswagen</td>\n",
       "      <td>no</td>\n",
       "      <td>19/03/2016 00:00</td>\n",
       "      <td>0</td>\n",
       "      <td>87439</td>\n",
       "      <td>07/04/2016 07:15</td>\n",
       "    </tr>\n",
       "    <tr>\n",
       "      <th>354368</th>\n",
       "      <td>20/03/2016 19:41</td>\n",
       "      <td>3400</td>\n",
       "      <td>wagon</td>\n",
       "      <td>2002</td>\n",
       "      <td>manual</td>\n",
       "      <td>100</td>\n",
       "      <td>golf</td>\n",
       "      <td>150000</td>\n",
       "      <td>6</td>\n",
       "      <td>gasoline</td>\n",
       "      <td>volkswagen</td>\n",
       "      <td>NaN</td>\n",
       "      <td>20/03/2016 00:00</td>\n",
       "      <td>0</td>\n",
       "      <td>40764</td>\n",
       "      <td>24/03/2016 12:45</td>\n",
       "    </tr>\n",
       "  </tbody>\n",
       "</table>\n",
       "</div>"
      ],
      "text/plain": [
       "             DateCrawled  Price  VehicleType  RegistrationYear Gearbox  Power  \\\n",
       "354364  21/03/2016 09:50      0          NaN              2005  manual      0   \n",
       "354365  14/03/2016 17:48   2200          NaN              2005     NaN      0   \n",
       "354366  05/03/2016 19:56   1199  convertible              2000    auto    101   \n",
       "354367  19/03/2016 18:57   9200          bus              1996  manual    102   \n",
       "354368  20/03/2016 19:41   3400        wagon              2002  manual    100   \n",
       "\n",
       "              Model  Mileage  RegistrationMonth  FuelType           Brand  \\\n",
       "354364         colt   150000                  7    petrol      mitsubishi   \n",
       "354365          NaN    20000                  1       NaN  sonstige_autos   \n",
       "354366       fortwo   125000                  3    petrol           smart   \n",
       "354367  transporter   150000                  3  gasoline      volkswagen   \n",
       "354368         golf   150000                  6  gasoline      volkswagen   \n",
       "\n",
       "       NotRepaired       DateCreated  NumberOfPictures  PostalCode  \\\n",
       "354364         yes  21/03/2016 00:00                 0        2694   \n",
       "354365         NaN  14/03/2016 00:00                 0       39576   \n",
       "354366          no  05/03/2016 00:00                 0       26135   \n",
       "354367          no  19/03/2016 00:00                 0       87439   \n",
       "354368         NaN  20/03/2016 00:00                 0       40764   \n",
       "\n",
       "                LastSeen  \n",
       "354364  21/03/2016 10:42  \n",
       "354365  06/04/2016 00:46  \n",
       "354366  11/03/2016 18:17  \n",
       "354367  07/04/2016 07:15  \n",
       "354368  24/03/2016 12:45  "
      ]
     },
     "execution_count": 8,
     "metadata": {},
     "output_type": "execute_result"
    }
   ],
   "source": [
    "df.tail()"
   ]
  },
  {
   "cell_type": "code",
   "execution_count": 9,
   "metadata": {},
   "outputs": [
    {
     "name": "stdout",
     "output_type": "stream",
     "text": [
      "<class 'pandas.core.frame.DataFrame'>\n",
      "RangeIndex: 354369 entries, 0 to 354368\n",
      "Data columns (total 16 columns):\n",
      " #   Column             Non-Null Count   Dtype \n",
      "---  ------             --------------   ----- \n",
      " 0   DateCrawled        354369 non-null  object\n",
      " 1   Price              354369 non-null  int64 \n",
      " 2   VehicleType        316879 non-null  object\n",
      " 3   RegistrationYear   354369 non-null  int64 \n",
      " 4   Gearbox            334536 non-null  object\n",
      " 5   Power              354369 non-null  int64 \n",
      " 6   Model              334664 non-null  object\n",
      " 7   Mileage            354369 non-null  int64 \n",
      " 8   RegistrationMonth  354369 non-null  int64 \n",
      " 9   FuelType           321474 non-null  object\n",
      " 10  Brand              354369 non-null  object\n",
      " 11  NotRepaired        283215 non-null  object\n",
      " 12  DateCreated        354369 non-null  object\n",
      " 13  NumberOfPictures   354369 non-null  int64 \n",
      " 14  PostalCode         354369 non-null  int64 \n",
      " 15  LastSeen           354369 non-null  object\n",
      "dtypes: int64(7), object(9)\n",
      "memory usage: 43.3+ MB\n"
     ]
    }
   ],
   "source": [
    "df.info()"
   ]
  },
  {
   "cell_type": "code",
   "execution_count": 10,
   "metadata": {},
   "outputs": [
    {
     "data": {
      "text/plain": [
       "DateCrawled              0\n",
       "Price                    0\n",
       "VehicleType          37490\n",
       "RegistrationYear         0\n",
       "Gearbox              19833\n",
       "Power                    0\n",
       "Model                19705\n",
       "Mileage                  0\n",
       "RegistrationMonth        0\n",
       "FuelType             32895\n",
       "Brand                    0\n",
       "NotRepaired          71154\n",
       "DateCreated              0\n",
       "NumberOfPictures         0\n",
       "PostalCode               0\n",
       "LastSeen                 0\n",
       "dtype: int64"
      ]
     },
     "execution_count": 10,
     "metadata": {},
     "output_type": "execute_result"
    }
   ],
   "source": [
    "df.isna().sum()"
   ]
  },
  {
   "cell_type": "code",
   "execution_count": 11,
   "metadata": {},
   "outputs": [
    {
     "name": "stdout",
     "output_type": "stream",
     "text": [
      "Número de valores duplicados: 262\n"
     ]
    }
   ],
   "source": [
    "print(f'Número de valores duplicados: {df.duplicated().sum()}')"
   ]
  },
  {
   "cell_type": "markdown",
   "metadata": {},
   "source": [
    "Nuestro dataset cuenta con 354369 filas/observaciones y 16 columnas, de las cuales 15 corresponden a las características y una al objetivo de nuestro modelo, que en este caso correspondría al precio del vehículo. \n",
    "\n",
    "Al realizar un análisis exploratorio de nuestro dataset, nos encontramos con algunos problemas que requieren ser corregidos para el desarrollo de nuestros modelos. En primer lugar, podemos observar que los nombres de las columnas se encuentran en mayúsculas, así que será necesario pasarlos a minúsculas, siguiendo las reglas del buen estilo en programacion. Por otro lado, se pueden observar valores ausentes en cinco de las columnas, estos valores requieren ser analizados a fondo para poder determinar si existe algún patrón subyacente que esté relacionado con estos. \n",
    "\n",
    "A su vez, podemos observar que los tipos de las columnas `DateCrawled`, `DateCreated` y `LastSeen` se encuentra como tipo objeto, siendo mejor transformarlos a tipo datetime. Por último, nos encontramos con 262 valores duplicados que requieren ser eliminados. \n",
    "\n",
    "### Visualización datos\n",
    "\n",
    "Establecidos los principales errores dentro del dataset, vamos a explorar las características categóricas y numéricas para observar la distribución de nuestros datos. Para esto almacenaremos las variables discretas en `categorical_data` y las variables continuas en `numerical_data`, posteriormente trazaremos gráficos de barras para cada grupo de variables o características. No consideraremos las características de fecha, ya que se encuentran como tipo objeto. A su vez, presentaremos las primeras 40 categorías de cada variable, ya que como se observa al llamar al método nunique, la característica `Model` presenta 250 valores únicos, así que reduciendo el número de categorías se visulizarán mejor los resultados."
   ]
  },
  {
   "cell_type": "code",
   "execution_count": 12,
   "metadata": {},
   "outputs": [
    {
     "name": "stdout",
     "output_type": "stream",
     "text": [
      "VehicleType: 8\n",
      "Gearbox: 2\n",
      "Model: 250\n",
      "FuelType: 7\n",
      "Brand: 40\n",
      "NotRepaired: 2\n"
     ]
    }
   ],
   "source": [
    "# Almacenamos a las variables discretas en la variable categorical_data\n",
    "categorical_data = df[['VehicleType', 'Gearbox', 'Model', 'FuelType', 'Brand', 'NotRepaired']]\n",
    "\n",
    "# Revisamos los valores únicos de cada columna con el método nunique\n",
    "for col in categorical_data:\n",
    "    print(f'{col}: {categorical_data[col].nunique()}')"
   ]
  },
  {
   "cell_type": "code",
   "execution_count": 13,
   "metadata": {},
   "outputs": [
    {
     "data": {
      "image/png": "[encoded data removed]",
      "text/plain": [
       "<Figure size 1440x1080 with 6 Axes>"
      ]
     },
     "metadata": {
      "needs_background": "light"
     },
     "output_type": "display_data"
    }
   ],
   "source": [
    "# Establecemos el número de filas y columnas para nuestros subplots\n",
    "a = 3 # número de filas\n",
    "b = 3 # número de columnas\n",
    "c = 1 # inicialización del conteo de plots\n",
    "\n",
    "# Establecemos el tamaño de nuestra figura de subplots\n",
    "fig = plt.subplots(figsize=(20, 15)) \n",
    "\n",
    "# Construimos un bucle for que iterará por cada columna categórica y devolverá un gráfico de barras\n",
    "for i in categorical_data:\n",
    "    plt.subplot(a, b, c) \n",
    "    plt.title(i)\n",
    "    plt.ylabel('%')\n",
    "    df[i].value_counts(normalize=True).head(40).plot(kind='bar', title=i, rot=90, edgecolor = 'black', linewidth = 0.8)\n",
    "    c = c + 1\n",
    "\n",
    "plt.suptitle('Distribución de Variables Categóricas', fontsize='xx-large')\n",
    "plt.tight_layout()\n",
    "plt.show()"
   ]
  },
  {
   "cell_type": "markdown",
   "metadata": {},
   "source": [
    "Al revisar las características categóricas podemos evidenciar ocho tipos de vehículos, con un mayor porcentaje del tipo sedán (cerca del 30%). En cuanto al tipo de caja, se registran 2 tipos: manual y automático, con una mayor proporción de transmisión manual (cerca del 80%). Por otro lado, en relación al modelo se observa un alto porcentaje de más del 80% de autos del modelo Golf, del total de 250 modelos registrados. \n",
    "\n",
    "En relación al tipo de combustible, se observa un mayor porcentaje de vehículos a petróleo y gasolina, con cerca del 70% para el primero y 30% para el segundo. Hay que recalcar, que Gasoline se conoce como Petrol en Reino Unido, así que debemos unir estas categorías en una sola. A su vez, las marca con un mayor número de anuncios en línea es Volkswagen (más del 20%), seguida de Opel (más del 10%) y BMW (cerca del 10%). Finalmente, más del 80% de vehículos se encuentran reparados mientras que el otro 20% no presentan reparaciones. \n",
    "\n",
    "Hay que considerar que tanto las características `VehicleType`, `Gearbox`, `Model`, `FuelType` y `NotRepaired` registran valores ausentes, los cuáles serán analizados posteriomente. \n",
    "\n",
    "Ahora llamaremos al método describe y generaremos histogramas de frecuencia para entender mejor la distribución de nuestras variables continuas. "
   ]
  },
  {
   "cell_type": "code",
   "execution_count": 14,
   "metadata": {},
   "outputs": [
    {
     "data": {
      "text/html": [
       "<div>\n",
       "<style scoped>\n",
       "    .dataframe tbody tr th:only-of-type {\n",
       "        vertical-align: middle;\n",
       "    }\n",
       "\n",
       "    .dataframe tbody tr th {\n",
       "        vertical-align: top;\n",
       "    }\n",
       "\n",
       "    .dataframe thead th {\n",
       "        text-align: right;\n",
       "    }\n",
       "</style>\n",
       "<table border=\"1\" class=\"dataframe\">\n",
       "  <thead>\n",
       "    <tr style=\"text-align: right;\">\n",
       "      <th></th>\n",
       "      <th>Price</th>\n",
       "      <th>RegistrationYear</th>\n",
       "      <th>Power</th>\n",
       "      <th>Mileage</th>\n",
       "      <th>RegistrationMonth</th>\n",
       "      <th>NumberOfPictures</th>\n",
       "      <th>PostalCode</th>\n",
       "    </tr>\n",
       "  </thead>\n",
       "  <tbody>\n",
       "    <tr>\n",
       "      <th>count</th>\n",
       "      <td>354369.000000</td>\n",
       "      <td>354369.000000</td>\n",
       "      <td>354369.000000</td>\n",
       "      <td>354369.000000</td>\n",
       "      <td>354369.000000</td>\n",
       "      <td>354369.0</td>\n",
       "      <td>354369.000000</td>\n",
       "    </tr>\n",
       "    <tr>\n",
       "      <th>mean</th>\n",
       "      <td>4416.656776</td>\n",
       "      <td>2004.234448</td>\n",
       "      <td>110.094337</td>\n",
       "      <td>128211.172535</td>\n",
       "      <td>5.714645</td>\n",
       "      <td>0.0</td>\n",
       "      <td>50508.689087</td>\n",
       "    </tr>\n",
       "    <tr>\n",
       "      <th>std</th>\n",
       "      <td>4514.158514</td>\n",
       "      <td>90.227958</td>\n",
       "      <td>189.850405</td>\n",
       "      <td>37905.341530</td>\n",
       "      <td>3.726421</td>\n",
       "      <td>0.0</td>\n",
       "      <td>25783.096248</td>\n",
       "    </tr>\n",
       "    <tr>\n",
       "      <th>min</th>\n",
       "      <td>0.000000</td>\n",
       "      <td>1000.000000</td>\n",
       "      <td>0.000000</td>\n",
       "      <td>5000.000000</td>\n",
       "      <td>0.000000</td>\n",
       "      <td>0.0</td>\n",
       "      <td>1067.000000</td>\n",
       "    </tr>\n",
       "    <tr>\n",
       "      <th>25%</th>\n",
       "      <td>1050.000000</td>\n",
       "      <td>1999.000000</td>\n",
       "      <td>69.000000</td>\n",
       "      <td>125000.000000</td>\n",
       "      <td>3.000000</td>\n",
       "      <td>0.0</td>\n",
       "      <td>30165.000000</td>\n",
       "    </tr>\n",
       "    <tr>\n",
       "      <th>50%</th>\n",
       "      <td>2700.000000</td>\n",
       "      <td>2003.000000</td>\n",
       "      <td>105.000000</td>\n",
       "      <td>150000.000000</td>\n",
       "      <td>6.000000</td>\n",
       "      <td>0.0</td>\n",
       "      <td>49413.000000</td>\n",
       "    </tr>\n",
       "    <tr>\n",
       "      <th>75%</th>\n",
       "      <td>6400.000000</td>\n",
       "      <td>2008.000000</td>\n",
       "      <td>143.000000</td>\n",
       "      <td>150000.000000</td>\n",
       "      <td>9.000000</td>\n",
       "      <td>0.0</td>\n",
       "      <td>71083.000000</td>\n",
       "    </tr>\n",
       "    <tr>\n",
       "      <th>max</th>\n",
       "      <td>20000.000000</td>\n",
       "      <td>9999.000000</td>\n",
       "      <td>20000.000000</td>\n",
       "      <td>150000.000000</td>\n",
       "      <td>12.000000</td>\n",
       "      <td>0.0</td>\n",
       "      <td>99998.000000</td>\n",
       "    </tr>\n",
       "  </tbody>\n",
       "</table>\n",
       "</div>"
      ],
      "text/plain": [
       "               Price  RegistrationYear          Power        Mileage  \\\n",
       "count  354369.000000     354369.000000  354369.000000  354369.000000   \n",
       "mean     4416.656776       2004.234448     110.094337  128211.172535   \n",
       "std      4514.158514         90.227958     189.850405   37905.341530   \n",
       "min         0.000000       1000.000000       0.000000    5000.000000   \n",
       "25%      1050.000000       1999.000000      69.000000  125000.000000   \n",
       "50%      2700.000000       2003.000000     105.000000  150000.000000   \n",
       "75%      6400.000000       2008.000000     143.000000  150000.000000   \n",
       "max     20000.000000       9999.000000   20000.000000  150000.000000   \n",
       "\n",
       "       RegistrationMonth  NumberOfPictures     PostalCode  \n",
       "count      354369.000000          354369.0  354369.000000  \n",
       "mean            5.714645               0.0   50508.689087  \n",
       "std             3.726421               0.0   25783.096248  \n",
       "min             0.000000               0.0    1067.000000  \n",
       "25%             3.000000               0.0   30165.000000  \n",
       "50%             6.000000               0.0   49413.000000  \n",
       "75%             9.000000               0.0   71083.000000  \n",
       "max            12.000000               0.0   99998.000000  "
      ]
     },
     "execution_count": 14,
     "metadata": {},
     "output_type": "execute_result"
    }
   ],
   "source": [
    "df.describe()"
   ]
  },
  {
   "cell_type": "markdown",
   "metadata": {},
   "source": [
    "Solo se registran valores cero en la columna `NumberOfPictures`, así que podremos obviar la misma para análisis posteriores. "
   ]
  },
  {
   "cell_type": "code",
   "execution_count": 15,
   "metadata": {},
   "outputs": [
    {
     "data": {
      "image/png": "[encoded data removed]",
      "text/plain": [
       "<Figure size 1440x1080 with 6 Axes>"
      ]
     },
     "metadata": {
      "needs_background": "light"
     },
     "output_type": "display_data"
    }
   ],
   "source": [
    "# Almacenamos a las variables continuas en la variable numerical_data\n",
    "numerical_data= ['Price', 'RegistrationYear', 'Power', 'Mileage', 'RegistrationMonth', 'PostalCode']\n",
    "\n",
    "# Establecemos el número de filas y columnas para nuestros subplots\n",
    "a = 3 # número de filas\n",
    "b = 3 # número de columnas\n",
    "c = 1 # inicialización del conteo de plots\n",
    "\n",
    "# Establecemos el tamaño de nuestra figura de subplots\n",
    "fig = plt.subplots(figsize=(20, 15)) \n",
    "\n",
    "# Construimos un bucle for que iterará por cada columna numérica y devolverá un histograma\n",
    "for i in numerical_data:\n",
    "    plt.subplot(a, b, c)\n",
    "    plt.title(i)\n",
    "    df[i].plot(kind='hist', title=i, bins=16, edgecolor = 'black', linewidth = 0.8)\n",
    "    c = c + 1\n",
    "\n",
    "plt.suptitle('Distribución de Variables Numéricas', fontsize='xx-large')\n",
    "plt.tight_layout()\n",
    "plt.show()"
   ]
  },
  {
   "cell_type": "markdown",
   "metadata": {},
   "source": [
    "En cuanto al precio podemos observar una media de 4416 dólares y una mediana de 2700, lo que indica un sesgo hacia la derecha de nuestros datos, esto se corrobora al observar el histograma con una fuerte asimetría positiva de los valores de precio, evidenciando un alto porcentaje de valores cero o cercanos a cero, lo cual también estaría relacionado con la alta desviación estándar. Estos valores podrían estar relacionado con usuarios que no colocan el precio del vehículo para que los compradores se comuniquen directamente con el vendedor, así que será necesario procesar correctamente estos valores cero antes de construir nuestro modelo predictivo.\n",
    "\n",
    "En relación al año de matriculación del vehículo la media es de 2004 y la mediana 2003, así que se registran más vehículos de estos años. Sin embargo, encontramos valores inconsistentes, con un mínimo de 1000 y un máximo de 9999. Si consideramos que el primer vehículo fue creado en 1886, será necesario filtrar estos valores extremos y trabajar solo con aquellos vehículos de un máximo de 130 años. \n",
    "\n",
    "La potencia en caballos de vapor se encuentra alrededor de 110cv, con una mediana de 105cv, lo que indica una asimetría positiva. También se hace evidente la presencia de valores inconsistentes que llegan a los 20000cv, cuando el auto de mayor potencia registrado alcanza los 1825cv (Bugatti Bolide). Será necesario analizar estos valores y tomar una decisión sobre qué hacer con los mismos. \n",
    "\n",
    "El kilometraje promedio es de 128211, con una mediana de 150000, lo que indica un sesgo hacia la izquierda de nuestros datos, lo cual se hace evidente al analizar nuestro histograma de frecuencia, con un mayor número de vehículos por encima de los 140000 km. Así mismo, se observan valores inconsistentes cero en el mes de matriculación del vehículo, que se relacionarían con que el usuario no facilitó esta información. Por último, no se registraron valores extraños en código postal, sin embargo será necesario considerar si estas características ayudarán a la construcción de nuestro modelo. \n",
    "\n",
    "Finalizamos la exploración inicial de nuestros datos realizando un análisis de correlación, para esto eliminaremos la columna `NumberOfPictures` ya que solo registra valores ceros y no será necesaria para la construcción de nuestro modelo predictivo. "
   ]
  },
  {
   "cell_type": "code",
   "execution_count": 16,
   "metadata": {},
   "outputs": [
    {
     "data": {
      "image/png": "[encoded data removed]",
      "text/plain": [
       "<Figure size 864x432 with 2 Axes>"
      ]
     },
     "metadata": {
      "needs_background": "light"
     },
     "output_type": "display_data"
    }
   ],
   "source": [
    "# Eliminamos la columna Number of Pictures con la función drop\n",
    "df = df.drop(['NumberOfPictures'], axis=1)\n",
    "\n",
    "# Trazamos un gráfico heatmap de correlación\n",
    "plt.figure(figsize=(12, 6))\n",
    "sns.heatmap(df.corr(), annot=True)\n",
    "plt.show()"
   ]
  },
  {
   "cell_type": "markdown",
   "metadata": {},
   "source": [
    "Se observa una correlación negativa moderada entre el kilometraje y el precio del vehículo, a mayor el precio del vehículo menor será su kilometraje. También se observa una correlación positiva leve entre el precio y la potencia, a mayor precio, mayor será la potencia del vehículo. No se observa una correlación lineal fuerte entre las otras características numéricas, ya que todos presentan una correlación de Pearson cercana a cero, si existe una relación entre ellas no es de tipo lineal. "
   ]
  },
  {
   "cell_type": "markdown",
   "metadata": {},
   "source": [
    "### Conclusiones"
   ]
  },
  {
   "cell_type": "markdown",
   "metadata": {},
   "source": [
    "1. Los nombres de las columnas se encuentran en mayúsculas así que deberán ser corregidos para seguir las reglas del buen estilo en programación. \n",
    "2. El tipo de dato de las columnas `DateCrawled`, `DateCreated` y `LastSeen` se presenta como objeto y lo correcto sería transformalas a tipo datetime.\n",
    "3. Se registran valores ausentes en cinco columnas `VehicleType`, `Gearbox`, `Model`, `FuelType` y `NotRepaired`, los cuales deberán ser analizados para encontrar si existe un patrón que nos permita imputarlos posteriormente. A su vez, se requiere unir en una sola categoría `petrol` y `gasoline` que son los mismo términos para referirse a gasolina.\n",
    "4. La columna o característica `NumberOfPictures` solo presentó valores cero, así que se decidió eliminarla de nuestro conjunto de datos. \n",
    "5. Las características `Price`, `RegistrationYear` y `Power` presentaron artefactos extraños que deberán ser analizados y procesados correctamente antes de construir nuestro modelo, estas inconsistencias son: \n",
    "    1. Valores de precio iguales a cero\n",
    "    2. Años de matriculación de 1000 y 9999\n",
    "    3. Potencia en caballos de vapor de 0 y 20000. \n",
    "    4. Mes de registro del vehículo igual a cero.\n",
    "    \n",
    "6. Ciertas características como fechas o códigos postales no servirán para construir nuestro modelo así que será necesario tomar una decisión sobre si conservarlas o no.  "
   ]
  },
  {
   "cell_type": "markdown",
   "metadata": {},
   "source": [
    "## Preparación de datos\n",
    "\n",
    "### Valores duplicados\n",
    "\n",
    "Durante la exploración de datos se observaron valores duplicados, así que lo mejor será eliminarlos. "
   ]
  },
  {
   "cell_type": "code",
   "execution_count": 17,
   "metadata": {},
   "outputs": [
    {
     "name": "stdout",
     "output_type": "stream",
     "text": [
      "Número de valores duplicados: 0 | Número de filas dataset: 354107\n"
     ]
    }
   ],
   "source": [
    "df = df.drop_duplicates().reset_index(drop=True)\n",
    "\n",
    "print(f'Número de valores duplicados: {df.duplicated().sum()} | Número de filas dataset: {df.shape[0]}')"
   ]
  },
  {
   "cell_type": "markdown",
   "metadata": {},
   "source": [
    "### Corrección nombres de columnas \n",
    "\n",
    "Empezamos corrigiendo el nombre de las columnas que se encontraban en mayúsculas, las transformaremos en minúsculas y separaremos los nombres con más de dos palabras con un guión bajo. Para esto utilizaremos expresiones regulares y las funciones `str.replace`, `str.strip` y `str.lower`."
   ]
  },
  {
   "cell_type": "code",
   "execution_count": 18,
   "metadata": {},
   "outputs": [
    {
     "data": {
      "text/plain": [
       "Index(['date_crawled', 'price', 'vehicle_type', 'registration_year', 'gearbox',\n",
       "       'power', 'model', 'mileage', 'registration_month', 'fuel_type', 'brand',\n",
       "       'not_repaired', 'date_created', 'postal_code', 'last_seen'],\n",
       "      dtype='object')"
      ]
     },
     "execution_count": 18,
     "metadata": {},
     "output_type": "execute_result"
    }
   ],
   "source": [
    "# Cambiamos los nombres a minúsculas y añadimos un guión bajo como separador de palabras.\n",
    "df.columns = df.columns.str.replace(r'([A-Z])', r'_\\1', regex=True).str.strip('_').str.lower()\n",
    "\n",
    "# Comprobamos los cambios mostrando los nombres de las columnas.\n",
    "df.columns"
   ]
  },
  {
   "cell_type": "markdown",
   "metadata": {},
   "source": [
    "### Corrección tipo de datos\n",
    "\n",
    "Las columnas `date_crawled`, `date_created` y `last_seen` se presentan como tipo objeto así que será necesario transformalas a tipo datetime, ya que nos servirán para extraer información importante como el año de la publicación, a partir de la cual calcularemos posteriormente el año del vehículo. \n"
   ]
  },
  {
   "cell_type": "code",
   "execution_count": 19,
   "metadata": {},
   "outputs": [
    {
     "name": "stdout",
     "output_type": "stream",
     "text": [
      "<class 'pandas.core.frame.DataFrame'>\n",
      "RangeIndex: 354107 entries, 0 to 354106\n",
      "Data columns (total 15 columns):\n",
      " #   Column              Non-Null Count   Dtype         \n",
      "---  ------              --------------   -----         \n",
      " 0   date_crawled        354107 non-null  datetime64[ns]\n",
      " 1   price               354107 non-null  int64         \n",
      " 2   vehicle_type        316623 non-null  object        \n",
      " 3   registration_year   354107 non-null  int64         \n",
      " 4   gearbox             334277 non-null  object        \n",
      " 5   power               354107 non-null  int64         \n",
      " 6   model               334406 non-null  object        \n",
      " 7   mileage             354107 non-null  int64         \n",
      " 8   registration_month  354107 non-null  int64         \n",
      " 9   fuel_type           321218 non-null  object        \n",
      " 10  brand               354107 non-null  object        \n",
      " 11  not_repaired        282962 non-null  object        \n",
      " 12  date_created        354107 non-null  datetime64[ns]\n",
      " 13  postal_code         354107 non-null  int64         \n",
      " 14  last_seen           354107 non-null  datetime64[ns]\n",
      "dtypes: datetime64[ns](3), int64(6), object(6)\n",
      "memory usage: 40.5+ MB\n"
     ]
    }
   ],
   "source": [
    "# Guardamos las columnas de fecha en la variable date_columns\n",
    "date_columns = df[['date_crawled', 'date_created', 'last_seen']]\n",
    "\n",
    "# Construimos un bucle for que itere por las columnas y las transforme en datetime\n",
    "for col in date_columns:\n",
    "    df[col] = pd.to_datetime(df[col], format='%d/%m/%Y %H:%M')\n",
    "\n",
    "# Comprobamos los cambios\n",
    "df.info()"
   ]
  },
  {
   "cell_type": "markdown",
   "metadata": {},
   "source": [
    "### Valores ausentes\n",
    "\n",
    "Se registraron cinco columnas con valores ausentes, vamos a calcular el porcentaje que representan en nuestro dataset."
   ]
  },
  {
   "cell_type": "code",
   "execution_count": 20,
   "metadata": {},
   "outputs": [
    {
     "data": {
      "text/html": [
       "<div>\n",
       "<style scoped>\n",
       "    .dataframe tbody tr th:only-of-type {\n",
       "        vertical-align: middle;\n",
       "    }\n",
       "\n",
       "    .dataframe tbody tr th {\n",
       "        vertical-align: top;\n",
       "    }\n",
       "\n",
       "    .dataframe thead th {\n",
       "        text-align: right;\n",
       "    }\n",
       "</style>\n",
       "<table border=\"1\" class=\"dataframe\">\n",
       "  <thead>\n",
       "    <tr style=\"text-align: right;\">\n",
       "      <th></th>\n",
       "      <th>Valores Ausentes</th>\n",
       "      <th>% Ausentes</th>\n",
       "    </tr>\n",
       "  </thead>\n",
       "  <tbody>\n",
       "    <tr>\n",
       "      <th>vehicle_type</th>\n",
       "      <td>37484</td>\n",
       "      <td>10.585501</td>\n",
       "    </tr>\n",
       "    <tr>\n",
       "      <th>gearbox</th>\n",
       "      <td>19830</td>\n",
       "      <td>5.600002</td>\n",
       "    </tr>\n",
       "    <tr>\n",
       "      <th>model</th>\n",
       "      <td>19701</td>\n",
       "      <td>5.563573</td>\n",
       "    </tr>\n",
       "    <tr>\n",
       "      <th>fuel_type</th>\n",
       "      <td>32889</td>\n",
       "      <td>9.287871</td>\n",
       "    </tr>\n",
       "    <tr>\n",
       "      <th>not_repaired</th>\n",
       "      <td>71145</td>\n",
       "      <td>20.091385</td>\n",
       "    </tr>\n",
       "  </tbody>\n",
       "</table>\n",
       "</div>"
      ],
      "text/plain": [
       "              Valores Ausentes  % Ausentes\n",
       "vehicle_type             37484   10.585501\n",
       "gearbox                  19830    5.600002\n",
       "model                    19701    5.563573\n",
       "fuel_type                32889    9.287871\n",
       "not_repaired             71145   20.091385"
      ]
     },
     "execution_count": 20,
     "metadata": {},
     "output_type": "execute_result"
    }
   ],
   "source": [
    "nan_count = df.isna().sum()\n",
    "nan_percent = 100 * df.isna().sum() / len(df)\n",
    "       \n",
    "nan_table = pd.concat([nan_count, nan_percent], axis=1)\n",
    "nan_table.columns = ['Valores Ausentes', '% Ausentes']\n",
    "\n",
    "nan_table[nan_table.iloc[:,1] != 0]"
   ]
  },
  {
   "cell_type": "markdown",
   "metadata": {},
   "source": [
    "La característica `not_repaired` es la que presenta el mayor porcentaje de valores ausentes 20%, seguida de `vehicle_type` con un 10% y `fuel_type` con un 9%. Tanto `gearbox` como `model` registran cerca de un 5% de valores NaN. "
   ]
  },
  {
   "cell_type": "markdown",
   "metadata": {},
   "source": [
    "#### Valores ausentes `gearbox`\n",
    "\n",
    "El tipo de caja de cambios está relacionada con el modelo del auto y su marca, así que rellenaremos los valores ausentes en función de la moda de estas dos características. Hay que considerar que `model` presenta valores ausentes así que será necesario trabajar con un dataset filtrado que no presente valores ausentes tanto en `gearbox` como en `model`. Crearemos una función `fill_gearbox` que rellenará los valores ausentes con la moda y si no es posible devolverá la palabra Error. "
   ]
  },
  {
   "cell_type": "code",
   "execution_count": 21,
   "metadata": {},
   "outputs": [
    {
     "data": {
      "text/plain": [
       "manual    0.756929\n",
       "auto      0.187071\n",
       "NaN       0.056000\n",
       "Name: gearbox, dtype: float64"
      ]
     },
     "execution_count": 21,
     "metadata": {},
     "output_type": "execute_result"
    }
   ],
   "source": [
    "# Analizamos la distribución de nuestros datos\n",
    "df['gearbox'].value_counts(dropna=False, normalize=True)"
   ]
  },
  {
   "cell_type": "code",
   "execution_count": 22,
   "metadata": {},
   "outputs": [
    {
     "data": {
      "text/plain": [
       "'manual'"
      ]
     },
     "execution_count": 22,
     "metadata": {},
     "output_type": "execute_result"
    }
   ],
   "source": [
    "# Filtramos el dataset sin valores ausentes en 'gearbox' y 'model', y creamos una tabla dinámica que devuelva la moda \n",
    "gearbox_without_nan = df.dropna(subset=['gearbox', 'model'])\n",
    "gearbox_model = gearbox_without_nan.pivot_table(index=['brand','model'], values='gearbox', aggfunc=mode)\n",
    "\n",
    "# Creamos la función fill_gearbox\n",
    "def fill_gearbox(row):\n",
    "    '''\n",
    "    Devuelve la moda de la caja de cambios en función del modelo y marca del auto, si no es posible lanzará 'Error'\n",
    "    \n",
    "    :param row: fila con la información que requiere ser rellenada\n",
    "    '''\n",
    "    model = row['model']\n",
    "    gearbox = row['gearbox']\n",
    "    brand = row['brand']\n",
    "\n",
    "    if pd.isna(gearbox):\n",
    "        try:\n",
    "            return gearbox_model.loc[(brand, model), 'gearbox']\n",
    "        except:\n",
    "            return 'Error'\n",
    "    return gearbox\n",
    "\n",
    "# Comprobamos que la función trabaje correctamente\n",
    "row_values = ['alfa_romeo', '145', np.nan]\n",
    "row_columns = ['brand', 'model', 'gearbox']\n",
    "row = pd.Series(data=row_values, index=row_columns)\n",
    "fill_gearbox(row)"
   ]
  },
  {
   "cell_type": "code",
   "execution_count": 23,
   "metadata": {},
   "outputs": [
    {
     "name": "stdout",
     "output_type": "stream",
     "text": [
      "Errores al aplicar la función fill_model: 4130\n"
     ]
    }
   ],
   "source": [
    "# Aplicamos la función a nuestro dataset\n",
    "df['gearbox'] = df.apply(fill_gearbox, axis = 1)\n",
    "\n",
    "# Comprobamos si existen valores que no se rellenaron\n",
    "errors = df[df['gearbox'] == 'Error']\n",
    "print(f'Errores al aplicar la función fill_model: {len(errors)}')"
   ]
  },
  {
   "cell_type": "markdown",
   "metadata": {},
   "source": [
    "Nuestro función no pudo rellenar 4130 valores, estos valores restantes van a ser rellenados en función de la moda de toda la columna. Decidimos reemplazar con la moda, ya que solo existen dos opciones manual y auto, y manual se presenta en mayor propoción, por lo no afectaríamos la distribución de nuestros datos. Utilizamos la función replace para cambiar los Errores por la moda y comprobamos que los cambios se hayan realizado correctamente. "
   ]
  },
  {
   "cell_type": "code",
   "execution_count": 24,
   "metadata": {},
   "outputs": [
    {
     "name": "stdout",
     "output_type": "stream",
     "text": [
      "Número de errores en model: 0\n",
      "Valores únicos en gearbox:\n",
      "manual    0.807423\n",
      "auto      0.192577\n",
      "Name: gearbox, dtype: float64\n"
     ]
    }
   ],
   "source": [
    "# Reemplazamos los errores por la moda de la columna\n",
    "df['gearbox'] = df['gearbox'].replace('Error', mode(df['gearbox']))\n",
    "\n",
    "# Comprobamos los cambios realizados \n",
    "print('Número de errores en model:', len(df[df['model'] == 'Error']))\n",
    "print('Valores únicos en gearbox:')\n",
    "print(df['gearbox'].value_counts(dropna=False, normalize=True))"
   ]
  },
  {
   "cell_type": "markdown",
   "metadata": {},
   "source": [
    "#### Valores ausentes `vehicle_type`\n",
    "\n",
    "El tipo de carrocería del vehículo depende del modelo y marca del vehículo, así que nuevamente utlizaremos estas variables para rellenar los valores ausentes. "
   ]
  },
  {
   "cell_type": "code",
   "execution_count": 25,
   "metadata": {},
   "outputs": [
    {
     "data": {
      "text/plain": [
       "sedan          0.258111\n",
       "small          0.225223\n",
       "wagon          0.183885\n",
       "NaN            0.105855\n",
       "bus            0.081196\n",
       "convertible    0.056988\n",
       "coupe          0.045599\n",
       "suv            0.033863\n",
       "other          0.009280\n",
       "Name: vehicle_type, dtype: float64"
      ]
     },
     "execution_count": 25,
     "metadata": {},
     "output_type": "execute_result"
    }
   ],
   "source": [
    "# Analizamos la distribución de nuestros datos\n",
    "df['vehicle_type'].value_counts(dropna=False, normalize=True)"
   ]
  },
  {
   "cell_type": "code",
   "execution_count": 26,
   "metadata": {},
   "outputs": [
    {
     "data": {
      "text/plain": [
       "'small'"
      ]
     },
     "execution_count": 26,
     "metadata": {},
     "output_type": "execute_result"
    }
   ],
   "source": [
    "# Filtramos los valores ausentes en las columnas 'model' y 'vehicle_type' y construimos una tabla dinámica\n",
    "vehicletype_without_nan = df.dropna(subset=['vehicle_type', 'model'])\n",
    "vehicletype_model = vehicletype_without_nan.pivot_table(index=['brand','model'], values='vehicle_type', aggfunc=mode)\n",
    "\n",
    "# Creamos la función fill_vehicle_type\n",
    "def fill_vehicle_type(row):\n",
    "    '''\n",
    "    Devuelve la moda en función de del modelo y marca del auto, si no es posible devuelve 'Error'\n",
    "    \n",
    "    :param row: fila con la información que requiere ser rellenada\n",
    "    '''\n",
    "    brand = row['brand']\n",
    "    model = row['model']\n",
    "    vehicle_type = row['vehicle_type']\n",
    "    \n",
    "    if pd.isna(vehicle_type):\n",
    "        try:\n",
    "            return vehicletype_model.loc[(brand, model), 'vehicle_type']\n",
    "        except:\n",
    "            return 'Error'\n",
    "    return vehicle_type\n",
    "\n",
    "# Comprobamos que la función trabaje correctamente\n",
    "row_values = ['alfa_romeo', '145', np.nan]\n",
    "row_columns = ['brand', 'model', 'vehicle_type']\n",
    "row = pd.Series(data=row_values, index=row_columns)\n",
    "fill_vehicle_type(row)"
   ]
  },
  {
   "cell_type": "code",
   "execution_count": 27,
   "metadata": {},
   "outputs": [
    {
     "name": "stdout",
     "output_type": "stream",
     "text": [
      "Errores al aplicar la función fill_vehicle_type: 6827\n"
     ]
    }
   ],
   "source": [
    "# Aplicamos la función a nuestro dataset\n",
    "df['vehicle_type'] = df.apply(fill_vehicle_type, axis = 1)\n",
    "\n",
    "# Comprobamos si existen valores que no se rellenaron\n",
    "errors = df[df['vehicle_type'] == 'Error']\n",
    "print(f'Errores al aplicar la función fill_vehicle_type: {len(errors)}')"
   ]
  },
  {
   "cell_type": "markdown",
   "metadata": {},
   "source": [
    "Se registraron 6827 valores que no pudieron ser rellenados, así que los reemplazaremos con la palabra unknown ya que no podemos obtener este valor a partir de otra variable, y si utilizamos la moda de la columna afectaremos la curtosis de los datos. "
   ]
  },
  {
   "cell_type": "code",
   "execution_count": 28,
   "metadata": {},
   "outputs": [
    {
     "name": "stdout",
     "output_type": "stream",
     "text": [
      "Número de errores en vehicle_type: 0\n",
      "Valores únicos en vehicle_type:\n",
      "sedan          0.293838\n",
      "small          0.250964\n",
      "wagon          0.193882\n",
      "bus            0.091811\n",
      "convertible    0.057757\n",
      "coupe          0.047367\n",
      "suv            0.035755\n",
      "unknown        0.019279\n",
      "other          0.009347\n",
      "Name: vehicle_type, dtype: float64\n"
     ]
    }
   ],
   "source": [
    "# Reemplazamos los errores por la moda de la columna\n",
    "df['vehicle_type'] = df['vehicle_type'].replace('Error', 'unknown')\n",
    "\n",
    "# Comprobamos los cambios realizados \n",
    "print('Número de errores en vehicle_type:', len(df[df['vehicle_type'] == 'Error']))\n",
    "print('Valores únicos en vehicle_type:')\n",
    "print(df['vehicle_type'].value_counts(dropna=False, normalize=True))"
   ]
  },
  {
   "cell_type": "markdown",
   "metadata": {},
   "source": [
    "#### Valores ausentes `fuel_type`\n",
    "\n",
    "Anteriormente se mencionó que el tipo de combustible petrol y gasoline son palabras con el mismo significado, siendo su única diferencia los lugares donde son utilizados. Petrol se utiliza en Reino Unido e India, mientras que gasoline se usa en Estados unidos. Considerando esto, lo mejor será juntarlos en una sola categoría, ya que no son combustibles diferentes sino que son términos diferentes para un mismo combustible. "
   ]
  },
  {
   "cell_type": "code",
   "execution_count": 29,
   "metadata": {},
   "outputs": [
    {
     "data": {
      "text/plain": [
       "gasoline    0.889050\n",
       "NaN         0.092879\n",
       "lpg         0.014987\n",
       "cng         0.001596\n",
       "hybrid      0.000658\n",
       "other       0.000576\n",
       "electric    0.000254\n",
       "Name: fuel_type, dtype: float64"
      ]
     },
     "execution_count": 29,
     "metadata": {},
     "output_type": "execute_result"
    }
   ],
   "source": [
    "# Reemplazamos petrol pr gasoline\n",
    "df['fuel_type'] = df['fuel_type'].replace('petrol', 'gasoline')\n",
    "\n",
    "# Comprobamos la nueva distribución de los datos\n",
    "df['fuel_type'].value_counts(dropna=False, normalize=True)"
   ]
  },
  {
   "cell_type": "markdown",
   "metadata": {},
   "source": [
    "Ahora rellenaremos los valores ausentes en función del modelo del vehículo. Crearemos una función y aplicaremos la misma a la característica `fuel_type`."
   ]
  },
  {
   "cell_type": "code",
   "execution_count": 30,
   "metadata": {},
   "outputs": [
    {
     "data": {
      "text/plain": [
       "'gasoline'"
      ]
     },
     "execution_count": 30,
     "metadata": {},
     "output_type": "execute_result"
    }
   ],
   "source": [
    "# Filtramos los valores ausentes en la columna 'model'  y construimos una tabla dinámica\n",
    "fuel_without_nan = df.dropna(subset=['fuel_type', 'model'])\n",
    "fuel_model = fuel_without_nan.pivot_table(index=['model'], values='fuel_type', aggfunc=mode)\n",
    "\n",
    "# Creamos la función fill_vehicle_type\n",
    "def fill_fuel_type(row):\n",
    "    '''\n",
    "    Devuelve la moda en función del modelo del auto, si no es posible devuelve 'Error'\n",
    "    \n",
    "    :param row: fila con la información que requiere ser rellenada\n",
    "    '''\n",
    "    model = row['model']\n",
    "    fuel_type = row['fuel_type']\n",
    "    \n",
    "    if pd.isna(fuel_type):\n",
    "        try:\n",
    "            return fuel_model.loc[model, 'fuel_type']\n",
    "        except:\n",
    "            return 'Error'\n",
    "    return fuel_type\n",
    "\n",
    "# Comprobamos que la función trabaje correctamente\n",
    "row_values = ['100', np.nan]\n",
    "row_columns = ['model', 'fuel_type']\n",
    "row = pd.Series(data=row_values, index=row_columns)\n",
    "fill_fuel_type(row)"
   ]
  },
  {
   "cell_type": "code",
   "execution_count": 31,
   "metadata": {},
   "outputs": [
    {
     "name": "stdout",
     "output_type": "stream",
     "text": [
      "Errores al aplicar la función fill_fuel_type: 7161\n"
     ]
    }
   ],
   "source": [
    "# Aplicamos la función a nuestro dataset\n",
    "df['fuel_type'] = df.apply(fill_fuel_type, axis = 1)\n",
    "\n",
    "# Comprobamos si existen valores que no se rellenaron\n",
    "errors = df[df['fuel_type'] == 'Error']\n",
    "print(f'Errores al aplicar la función fill_fuel_type: {len(errors)}')"
   ]
  },
  {
   "cell_type": "markdown",
   "metadata": {},
   "source": [
    "No se lograron rellenar 7161 valores, así que los vamos a reemplazar con `unknown`. "
   ]
  },
  {
   "cell_type": "code",
   "execution_count": 32,
   "metadata": {},
   "outputs": [
    {
     "name": "stdout",
     "output_type": "stream",
     "text": [
      "Número de errores en fuel_type: 0\n",
      "Valores únicos en fuel_type:\n",
      "gasoline    0.961706\n",
      "unknown     0.020223\n",
      "lpg         0.014987\n",
      "cng         0.001596\n",
      "hybrid      0.000658\n",
      "other       0.000576\n",
      "electric    0.000254\n",
      "Name: fuel_type, dtype: float64\n"
     ]
    }
   ],
   "source": [
    "# Reemplazamos los errores por la moda de la columna\n",
    "df['fuel_type'] = df['fuel_type'].replace('Error', 'unknown')\n",
    "\n",
    "# Comprobamos los cambios realizados \n",
    "print('Número de errores en fuel_type:', len(df[df['fuel_type'] == 'Error']))\n",
    "print('Valores únicos en fuel_type:')\n",
    "print(df['fuel_type'].value_counts(dropna=False, normalize=True))"
   ]
  },
  {
   "cell_type": "markdown",
   "metadata": {},
   "source": [
    "#### Valores ausentes `model`\n",
    "\n",
    "Empecemos rellenando los valores ausentes de model, en este caso utilizaremos la marca del vehículo y el año de matriculación como variables de referencia, ya que el modelo de auto está directamente relacionado con la marca y ciertos modelos fueron lanzados en años específicos. Crearemos una función `fill_model` que nos ayude a rellenar los valores en función de la moda por marca y año de matriculación."
   ]
  },
  {
   "cell_type": "code",
   "execution_count": 33,
   "metadata": {},
   "outputs": [
    {
     "data": {
      "text/plain": [
       "'v60'"
      ]
     },
     "execution_count": 33,
     "metadata": {},
     "output_type": "execute_result"
    }
   ],
   "source": [
    "# Filtramos el dataset sin valores ausentes en 'model' y creamos una tabla dinámica que devuelva la moda \n",
    "model_without_nan = df.dropna(subset=['model'])\n",
    "model_brand = model_without_nan.pivot_table(index=['brand', 'registration_year'], values='model', aggfunc=mode)\n",
    "\n",
    "# Creamos la función fill_model\n",
    "def fill_model(row):\n",
    "    '''\n",
    "    Devuelve la moda en función de la marca y año de matriculación del auto, si no es posible devuelve 'Error'\n",
    "    \n",
    "    :param row: fila con la información que requiere ser rellenada\n",
    "    '''\n",
    "    model = row['model']\n",
    "    registration_year = row['registration_year']\n",
    "    brand = row['brand']\n",
    "    \n",
    "    if pd.isna(model):\n",
    "        try:\n",
    "            return model_brand.loc[(brand, registration_year), 'model']\n",
    "        except:\n",
    "            return 'Error'\n",
    "    return model\n",
    "\n",
    "# Comprobamos que la función trabaje correctamente\n",
    "row_values = ['volvo', 2013, np.nan]\n",
    "row_columns = ['brand', 'registration_year', 'model']\n",
    "row = pd.Series(data=row_values, index=row_columns)\n",
    "fill_model(row)"
   ]
  },
  {
   "cell_type": "code",
   "execution_count": 34,
   "metadata": {},
   "outputs": [
    {
     "name": "stdout",
     "output_type": "stream",
     "text": [
      "Errores al aplicar la función fill_model: 3441\n"
     ]
    }
   ],
   "source": [
    "# Aplicamos la función a nuestro dataset\n",
    "df['model'] = df.apply(fill_model, axis = 1)\n",
    "\n",
    "# Comprobamos si existen valores que no se rellenaron\n",
    "errors = df[df['model'] == 'Error']\n",
    "print(f'Errores al aplicar la función fill_model: {len(errors)}')"
   ]
  },
  {
   "cell_type": "markdown",
   "metadata": {},
   "source": [
    "Al aplicar la función `fill_model` se generaron 3441 valores de Error, esto serían modelos de vehículos que no pudieron ser rellenados a partir de su marca y año de matriculación. Así que, al no poder usar otra variable de referencia, vamos a rellenarlos con la palabra `unknown`, ya que desconocemos los modelos de estos vehículos. "
   ]
  },
  {
   "cell_type": "code",
   "execution_count": 35,
   "metadata": {},
   "outputs": [
    {
     "name": "stdout",
     "output_type": "stream",
     "text": [
      "Número de errores en model: 0\n"
     ]
    }
   ],
   "source": [
    "df['model'] = df['model'].replace('Error', 'unknown')\n",
    "\n",
    "print('Número de errores en model:', len(df[df['model'] == 'Error']))"
   ]
  },
  {
   "cell_type": "markdown",
   "metadata": {},
   "source": [
    "#### Valores ausentes `not_repaired`\n",
    "\n",
    "El hecho de que un vehículo se encuentre reparado o no depende de cada vendedor, por lo que los valores ausentes de esta columna no son algo que se pueda rellenar fácilmente en función de otra variable. Podríamos rellenar estos valores con una nueva categoría, pero esta vez crearemos un modelo de machine learning que prediga el estado de un vehículo en función de todas las características del dataset. \n",
    "\n",
    "Empezaremos transformando esta característica categórica en una característica numérica, para esto crearemos un diccionario y posteriomente utilizaremos la función map para reemplazar no = 0 y yes = 1. "
   ]
  },
  {
   "cell_type": "code",
   "execution_count": 36,
   "metadata": {},
   "outputs": [
    {
     "data": {
      "text/plain": [
       "0.0    0.697323\n",
       "NaN    0.200914\n",
       "1.0    0.101763\n",
       "Name: not_repaired, dtype: float64"
      ]
     },
     "execution_count": 36,
     "metadata": {},
     "output_type": "execute_result"
    }
   ],
   "source": [
    "# Creamos un diccionario que guarde las equivalencias numéricas de yes y no\n",
    "not_repaired_dict = {'no': 0, 'yes': 1}\n",
    "\n",
    "# Utilizamos la función map a la columna not_repaired\n",
    "df['not_repaired'] = df['not_repaired'].map(not_repaired_dict)\n",
    "\n",
    "# Comprobamos los cambios\n",
    "df['not_repaired'].value_counts(dropna=False, normalize=True)"
   ]
  },
  {
   "cell_type": "markdown",
   "metadata": {},
   "source": [
    "Ahora construiremos un modelo de Regresión Logística que prediga si un vehículo ha sido reparado o no, y rellenaremos nuestros valores ausentes en función de las predicciones. Empezamos codificando las características categóricas a través de One-Hot Encoding. "
   ]
  },
  {
   "cell_type": "code",
   "execution_count": 37,
   "metadata": {
    "scrolled": true
   },
   "outputs": [
    {
     "data": {
      "text/html": [
       "<div>\n",
       "<style scoped>\n",
       "    .dataframe tbody tr th:only-of-type {\n",
       "        vertical-align: middle;\n",
       "    }\n",
       "\n",
       "    .dataframe tbody tr th {\n",
       "        vertical-align: top;\n",
       "    }\n",
       "\n",
       "    .dataframe thead th {\n",
       "        text-align: right;\n",
       "    }\n",
       "</style>\n",
       "<table border=\"1\" class=\"dataframe\">\n",
       "  <thead>\n",
       "    <tr style=\"text-align: right;\">\n",
       "      <th></th>\n",
       "      <th>date_crawled</th>\n",
       "      <th>price</th>\n",
       "      <th>registration_year</th>\n",
       "      <th>power</th>\n",
       "      <th>mileage</th>\n",
       "      <th>registration_month</th>\n",
       "      <th>not_repaired</th>\n",
       "      <th>date_created</th>\n",
       "      <th>postal_code</th>\n",
       "      <th>last_seen</th>\n",
       "      <th>...</th>\n",
       "      <th>brand_seat</th>\n",
       "      <th>brand_skoda</th>\n",
       "      <th>brand_smart</th>\n",
       "      <th>brand_sonstige_autos</th>\n",
       "      <th>brand_subaru</th>\n",
       "      <th>brand_suzuki</th>\n",
       "      <th>brand_toyota</th>\n",
       "      <th>brand_trabant</th>\n",
       "      <th>brand_volkswagen</th>\n",
       "      <th>brand_volvo</th>\n",
       "    </tr>\n",
       "  </thead>\n",
       "  <tbody>\n",
       "    <tr>\n",
       "      <th>0</th>\n",
       "      <td>2016-03-24 11:52:00</td>\n",
       "      <td>480</td>\n",
       "      <td>1993</td>\n",
       "      <td>0</td>\n",
       "      <td>150000</td>\n",
       "      <td>0</td>\n",
       "      <td>NaN</td>\n",
       "      <td>2016-03-24</td>\n",
       "      <td>70435</td>\n",
       "      <td>2016-04-07 03:16:00</td>\n",
       "      <td>...</td>\n",
       "      <td>0</td>\n",
       "      <td>0</td>\n",
       "      <td>0</td>\n",
       "      <td>0</td>\n",
       "      <td>0</td>\n",
       "      <td>0</td>\n",
       "      <td>0</td>\n",
       "      <td>0</td>\n",
       "      <td>1</td>\n",
       "      <td>0</td>\n",
       "    </tr>\n",
       "    <tr>\n",
       "      <th>1</th>\n",
       "      <td>2016-03-24 10:58:00</td>\n",
       "      <td>18300</td>\n",
       "      <td>2011</td>\n",
       "      <td>190</td>\n",
       "      <td>125000</td>\n",
       "      <td>5</td>\n",
       "      <td>1.0</td>\n",
       "      <td>2016-03-24</td>\n",
       "      <td>66954</td>\n",
       "      <td>2016-04-07 01:46:00</td>\n",
       "      <td>...</td>\n",
       "      <td>0</td>\n",
       "      <td>0</td>\n",
       "      <td>0</td>\n",
       "      <td>0</td>\n",
       "      <td>0</td>\n",
       "      <td>0</td>\n",
       "      <td>0</td>\n",
       "      <td>0</td>\n",
       "      <td>0</td>\n",
       "      <td>0</td>\n",
       "    </tr>\n",
       "    <tr>\n",
       "      <th>2</th>\n",
       "      <td>2016-03-14 12:52:00</td>\n",
       "      <td>9800</td>\n",
       "      <td>2004</td>\n",
       "      <td>163</td>\n",
       "      <td>125000</td>\n",
       "      <td>8</td>\n",
       "      <td>NaN</td>\n",
       "      <td>2016-03-14</td>\n",
       "      <td>90480</td>\n",
       "      <td>2016-04-05 12:47:00</td>\n",
       "      <td>...</td>\n",
       "      <td>0</td>\n",
       "      <td>0</td>\n",
       "      <td>0</td>\n",
       "      <td>0</td>\n",
       "      <td>0</td>\n",
       "      <td>0</td>\n",
       "      <td>0</td>\n",
       "      <td>0</td>\n",
       "      <td>0</td>\n",
       "      <td>0</td>\n",
       "    </tr>\n",
       "  </tbody>\n",
       "</table>\n",
       "<p>3 rows × 314 columns</p>\n",
       "</div>"
      ],
      "text/plain": [
       "         date_crawled  price  registration_year  power  mileage  \\\n",
       "0 2016-03-24 11:52:00    480               1993      0   150000   \n",
       "1 2016-03-24 10:58:00  18300               2011    190   125000   \n",
       "2 2016-03-14 12:52:00   9800               2004    163   125000   \n",
       "\n",
       "   registration_month  not_repaired date_created  postal_code  \\\n",
       "0                   0           NaN   2016-03-24        70435   \n",
       "1                   5           1.0   2016-03-24        66954   \n",
       "2                   8           NaN   2016-03-14        90480   \n",
       "\n",
       "            last_seen  ...  brand_seat  brand_skoda  brand_smart  \\\n",
       "0 2016-04-07 03:16:00  ...           0            0            0   \n",
       "1 2016-04-07 01:46:00  ...           0            0            0   \n",
       "2 2016-04-05 12:47:00  ...           0            0            0   \n",
       "\n",
       "   brand_sonstige_autos  brand_subaru  brand_suzuki  brand_toyota  \\\n",
       "0                     0             0             0             0   \n",
       "1                     0             0             0             0   \n",
       "2                     0             0             0             0   \n",
       "\n",
       "   brand_trabant  brand_volkswagen  brand_volvo  \n",
       "0              0                 1            0  \n",
       "1              0                 0            0  \n",
       "2              0                 0            0  \n",
       "\n",
       "[3 rows x 314 columns]"
      ]
     },
     "execution_count": 37,
     "metadata": {},
     "output_type": "execute_result"
    }
   ],
   "source": [
    "# Aplica OHE a nuestro dataset a través de la función get_dummies\n",
    "df_ohe = pd.get_dummies(df, drop_first=True)\n",
    "\n",
    "# Comprobamos si se guardaron los cambios\n",
    "df_ohe.head(3)"
   ]
  },
  {
   "cell_type": "markdown",
   "metadata": {},
   "source": [
    "Ahora procedemos a entrenar nuestro modelo de regresión logística. No utilizaremos las fechas para realizar la predicción ya que no son variables importantes y su formato datetime no funciona en la construcción de modelos. "
   ]
  },
  {
   "cell_type": "code",
   "execution_count": 38,
   "metadata": {},
   "outputs": [
    {
     "data": {
      "text/plain": [
       "0    0.898189\n",
       "1    0.101811\n",
       "Name: not_repaired, dtype: float64"
      ]
     },
     "execution_count": 38,
     "metadata": {},
     "output_type": "execute_result"
    }
   ],
   "source": [
    "# Creamos un conjunto de datos sin valores ausentes en not_repaired y otros con solo los valores ausentes \n",
    "nan_df_ohe = df_ohe[df_ohe['not_repaired'].isna()]\n",
    "no_nan_df_ohe = df_ohe[~df_ohe['not_repaired'].isna()]\n",
    "\n",
    "# Construcción de nuestro modelo de regresión lineal en base a nuestro dataset codificado sin valores ausentes\n",
    "lr_nan = LogisticRegression(random_state=12345, solver='liblinear')\n",
    "lr_nan.fit(no_nan_df_ohe.drop(columns=['not_repaired', 'date_crawled', 'date_created', 'last_seen']), \n",
    "           no_nan_df_ohe['not_repaired'])\n",
    "\n",
    "# Reemplazo de valores ausentes con las predicciones realizadas por nuestro modelo\n",
    "df['not_repaired'].fillna(pd.Series\n",
    "                          (lr_nan.predict(nan_df_ohe.drop(columns=['not_repaired', 'date_crawled', 'date_created', 'last_seen'])), \n",
    "                           index=nan_df_ohe.index),\n",
    "                          inplace=True)\n",
    "\n",
    "# Transformación del tipo de dato a entero \n",
    "df['not_repaired'] = df['not_repaired'].astype('int')\n",
    "\n",
    "# Comprobación de cambios\n",
    "df['not_repaired'].value_counts(dropna=False, normalize=True)"
   ]
  },
  {
   "cell_type": "markdown",
   "metadata": {},
   "source": [
    "Finalmente, verificamos que no existan valores ausentes en nuestro dataset."
   ]
  },
  {
   "cell_type": "code",
   "execution_count": 39,
   "metadata": {},
   "outputs": [
    {
     "name": "stdout",
     "output_type": "stream",
     "text": [
      "<class 'pandas.core.frame.DataFrame'>\n",
      "RangeIndex: 354107 entries, 0 to 354106\n",
      "Data columns (total 15 columns):\n",
      " #   Column              Non-Null Count   Dtype         \n",
      "---  ------              --------------   -----         \n",
      " 0   date_crawled        354107 non-null  datetime64[ns]\n",
      " 1   price               354107 non-null  int64         \n",
      " 2   vehicle_type        354107 non-null  object        \n",
      " 3   registration_year   354107 non-null  int64         \n",
      " 4   gearbox             354107 non-null  object        \n",
      " 5   power               354107 non-null  int64         \n",
      " 6   model               354107 non-null  object        \n",
      " 7   mileage             354107 non-null  int64         \n",
      " 8   registration_month  354107 non-null  int64         \n",
      " 9   fuel_type           354107 non-null  object        \n",
      " 10  brand               354107 non-null  object        \n",
      " 11  not_repaired        354107 non-null  int64         \n",
      " 12  date_created        354107 non-null  datetime64[ns]\n",
      " 13  postal_code         354107 non-null  int64         \n",
      " 14  last_seen           354107 non-null  datetime64[ns]\n",
      "dtypes: datetime64[ns](3), int64(7), object(5)\n",
      "memory usage: 40.5+ MB\n"
     ]
    }
   ],
   "source": [
    "df.info()"
   ]
  },
  {
   "cell_type": "markdown",
   "metadata": {},
   "source": [
    "### Valores atípicos y artefactos\n",
    "\n",
    "Al realizar una exploración inicial de datos, se observaron valores inusuales en algunas columnas del dataset: `price`, `registration_year`, `power`, `registration_month`. Vamos a analizar cada uno de estos valores y decidir como procesarlos. Vamos a trazar diagramas de caja que nos permitan visualizar aquellos valores atípicos e inconsistentes en nuestro dataset, para esto crearemos la función `boxplot_function`."
   ]
  },
  {
   "cell_type": "code",
   "execution_count": 40,
   "metadata": {},
   "outputs": [],
   "source": [
    "def boxplot_function(df, column, ylim=(0,0)):\n",
    "    \"\"\"\n",
    "    Devuelve un diagrama de cajas con sus rangos intercuartílicos\n",
    "    \n",
    "    :param df: nombre del dataset    \n",
    "    :param size: nombre de la columna como string\n",
    "    :param seed: límites del eje y del gráfico\n",
    "    \n",
    "    \"\"\"\n",
    "    Q1= df[column].quantile(0.25)\n",
    "    Q3= df[column].quantile(0.75)\n",
    "    IQR = Q3 - Q1\n",
    "\n",
    "    df.boxplot(column)\n",
    "    plt.ylim(ylim)\n",
    "    plt.hlines(y=[(Q1-1.5*IQR),(Q3+1.5*IQR)], xmin=0.9, xmax=1.1, color='red')\n",
    "    plt.show()"
   ]
  },
  {
   "cell_type": "markdown",
   "metadata": {},
   "source": [
    "#### Valores atípicos `registration_year`\n",
    "\n",
    "Apliquemos la función boxplot_function a la columna `registration_year` y establezcamos las fechas en la que se registraron la mayoría de usuarios. "
   ]
  },
  {
   "cell_type": "code",
   "execution_count": 41,
   "metadata": {},
   "outputs": [
    {
     "data": {
      "image/png": "[encoded data removed]",
      "text/plain": [
       "<Figure size 432x288 with 1 Axes>"
      ]
     },
     "metadata": {
      "needs_background": "light"
     },
     "output_type": "display_data"
    }
   ],
   "source": [
    "boxplot_function(df, 'registration_year', (1940, 2300))"
   ]
  },
  {
   "cell_type": "code",
   "execution_count": 42,
   "metadata": {},
   "outputs": [
    {
     "name": "stdout",
     "output_type": "stream",
     "text": [
      "Fecha más antigua de registro: 2014-03-10 00:00:00\n",
      "Fecha más reciente de registro: 2016-04-07 00:00:00\n",
      "Número de años que abarcan los datos: 2\n"
     ]
    }
   ],
   "source": [
    "print(f'''Fecha más antigua de registro: {df['date_created'].min()}\n",
    "Fecha más reciente de registro: {df['date_created'].max()}\n",
    "Número de años que abarcan los datos: {df['date_created'].dt.year.max() - df['date_created'].dt.year.min()}''')"
   ]
  },
  {
   "cell_type": "markdown",
   "metadata": {},
   "source": [
    "En nuestro diagrama de cajas podemos observar valores atípicos con años de matriculación por encima del año 2060 y por debajo de 1900. Considerando que el auto fue inventado en el año de 1886 y que los registros de datos se encuentran hasta el año 2016. Vamos a considerar solo aquellos datos que se encuentren entre 1900 y 2016. Ya que no podemos reemplazar o predecir el año de matriculación en función de otras variables, filtraremos entonces nuestro dataset en función de estos valores. "
   ]
  },
  {
   "cell_type": "code",
   "execution_count": 43,
   "metadata": {},
   "outputs": [
    {
     "data": {
      "text/plain": [
       "count    339512.000000\n",
       "mean       2002.481859\n",
       "std           7.091857\n",
       "min        1910.000000\n",
       "25%        1999.000000\n",
       "50%        2003.000000\n",
       "75%        2007.000000\n",
       "max        2016.000000\n",
       "Name: registration_year, dtype: float64"
      ]
     },
     "execution_count": 43,
     "metadata": {},
     "output_type": "execute_result"
    }
   ],
   "source": [
    "# Filtramos nuestro dataset\n",
    "df_filtered = df.query('1900 <= registration_year <= 2016')\n",
    "\n",
    "# Comprobamos los cambios \n",
    "df_filtered['registration_year'].describe() "
   ]
  },
  {
   "cell_type": "code",
   "execution_count": 44,
   "metadata": {},
   "outputs": [
    {
     "name": "stdout",
     "output_type": "stream",
     "text": [
      "Porcentaje de valores eliminados: 4.121635550836329\n",
      "Tamaño del dataset filtrado en registration_year: 339512\n"
     ]
    }
   ],
   "source": [
    "print(f'Porcentaje de valores eliminados: {(len(df) - len(df_filtered))*100/len(df)}')\n",
    "print(f'Tamaño del dataset filtrado en registration_year: {len(df_filtered)}')"
   ]
  },
  {
   "cell_type": "markdown",
   "metadata": {},
   "source": [
    "#### Valores atípicos `price`\n",
    "\n",
    "Se registraron valores cero en el precio de venta del vehículo, esto está relacionado con aquellos vendedores que prefieren que el comprador se contacte directamente con ellos al no colocar el precio del vehículo, vamos a aplicar nuestra función boxplot_function a la columna price y observaremos la distribución de los datos para tomar una mejor decisión. "
   ]
  },
  {
   "cell_type": "code",
   "execution_count": 45,
   "metadata": {},
   "outputs": [
    {
     "data": {
      "image/png": "[encoded data removed]",
      "text/plain": [
       "<Figure size 432x288 with 1 Axes>"
      ]
     },
     "metadata": {
      "needs_background": "light"
     },
     "output_type": "display_data"
    }
   ],
   "source": [
    "boxplot_function(df, 'price', (-1000, 20000))"
   ]
  },
  {
   "cell_type": "markdown",
   "metadata": {},
   "source": [
    "En el diagrama de cajas se observa una asimetría positiva, que ya se mencionó anteriormente, la cual está relacionada con el alto número de valores cercanos a cero en nuestro dataset. Debido a que construiremos nuestro modelo para predecir estos valores, vamos a eliminar aquellos vehículos con precios inferiores a 99 dólares, ya que suponen artefactos extraños que afectarán nuestro modelo. "
   ]
  },
  {
   "cell_type": "code",
   "execution_count": 46,
   "metadata": {},
   "outputs": [
    {
     "data": {
      "text/plain": [
       "count    327172.000000\n",
       "mean       4639.560433\n",
       "std        4546.098270\n",
       "min          99.000000\n",
       "25%        1200.000000\n",
       "50%        2950.000000\n",
       "75%        6700.000000\n",
       "max       20000.000000\n",
       "Name: price, dtype: float64"
      ]
     },
     "execution_count": 46,
     "metadata": {},
     "output_type": "execute_result"
    }
   ],
   "source": [
    "# Filtramos nuestro dataset\n",
    "df_filtered = df_filtered.query('99 <= price')\n",
    "\n",
    "# Comprobamos los cambios \n",
    "df_filtered['price'].describe() "
   ]
  },
  {
   "cell_type": "code",
   "execution_count": 47,
   "metadata": {},
   "outputs": [
    {
     "name": "stdout",
     "output_type": "stream",
     "text": [
      "Porcentaje de valores eliminados: 3.6346285256485777\n"
     ]
    }
   ],
   "source": [
    "print(f'Porcentaje de valores eliminados: {(339512 - len(df_filtered))*100/339512}')"
   ]
  },
  {
   "cell_type": "code",
   "execution_count": 48,
   "metadata": {},
   "outputs": [
    {
     "name": "stdout",
     "output_type": "stream",
     "text": [
      "Porcentaje de valores anormales eliminados en total: 7.606457935030937\n"
     ]
    }
   ],
   "source": [
    "print(f'Porcentaje de valores anormales eliminados en total: {(len(df) - len(df_filtered))*100/len(df)}')"
   ]
  },
  {
   "cell_type": "markdown",
   "metadata": {},
   "source": [
    "#### Valores atípicos `power`\n",
    "\n",
    "Ahora analizaremos los valores atípicos en la columna `power` que registró un valor máximo de 20000cv y valores mínimos de 0cv, los cuales son valores extraños para caballos de vapor en vehículos. Aplicamos nuestra función `boxplot_function` a esta columna."
   ]
  },
  {
   "cell_type": "code",
   "execution_count": 49,
   "metadata": {},
   "outputs": [
    {
     "data": {
      "image/png": "[encoded data removed]",
      "text/plain": [
       "<Figure size 432x288 with 1 Axes>"
      ]
     },
     "metadata": {
      "needs_background": "light"
     },
     "output_type": "display_data"
    }
   ],
   "source": [
    "boxplot_function(df, 'power', (-200, 3000))"
   ]
  },
  {
   "cell_type": "markdown",
   "metadata": {},
   "source": [
    "Al analizar nuestro diagrama de cajas podemos visualizar valores atípicos cercanos a cero y por encima de los 3000cv, si consideramos que el valor mínimo de caballos de vapor para un vehículo es de 60cv y que el máximo puede alcanzar hasta 1800cv. Vamos a rellenar todos los valores de potencia inferior con NaN y luego analizaremos la posibilidad de reemplazarlos en función de otras variables. Mientras que eliminaremos aquellos valores por encima de 2000cv ya que constituyen valores atípicos. "
   ]
  },
  {
   "cell_type": "code",
   "execution_count": 50,
   "metadata": {},
   "outputs": [
    {
     "data": {
      "text/plain": [
       "count    290012.000000\n",
       "mean        123.021723\n",
       "std          62.829852\n",
       "min          50.000000\n",
       "25%          80.000000\n",
       "50%         115.000000\n",
       "75%         150.000000\n",
       "max        2000.000000\n",
       "Name: power, dtype: float64"
      ]
     },
     "execution_count": 50,
     "metadata": {},
     "output_type": "execute_result"
    }
   ],
   "source": [
    "# Filtramos nuestro dataset df_filtered por aquellos valores mayores a 2000cv\n",
    "df_filtered = df_filtered.query('power <= 2000')\n",
    "\n",
    "# Convertimos los valores extraños en Nan\n",
    "df_filtered.loc[df_filtered['power'] < 50, 'power'] = np.nan\n",
    "\n",
    "# Comprobamos los cambios\n",
    "df_filtered['power'].describe() "
   ]
  },
  {
   "cell_type": "code",
   "execution_count": 51,
   "metadata": {},
   "outputs": [
    {
     "name": "stdout",
     "output_type": "stream",
     "text": [
      "Porcentaje de valores extraños reemplazados por Nan: 11.330567369164493\n",
      "Porcentaje de valores anormales eliminados en total: 7.634980387284069\n",
      "Tamaño del dataset filtrado: 327071\n"
     ]
    }
   ],
   "source": [
    "nan_power = df_filtered[df_filtered['power'].isna()]\n",
    "print(f'Porcentaje de valores extraños reemplazados por Nan: {nan_power.shape[0]/len(df_filtered)*100}')\n",
    "print(f'Porcentaje de valores anormales eliminados en total: {(len(df) - len(df_filtered))*100/len(df)}')\n",
    "print(f'Tamaño del dataset filtrado: {len(df_filtered)}')"
   ]
  },
  {
   "cell_type": "markdown",
   "metadata": {},
   "source": [
    "Podemos observar un alto porcentaje de artefactos extraños reemplazados por valores NaN, así que vamos a rellenarlos en función del modelo de vehículo. "
   ]
  },
  {
   "cell_type": "code",
   "execution_count": 52,
   "metadata": {},
   "outputs": [
    {
     "data": {
      "text/plain": [
       "133.0"
      ]
     },
     "execution_count": 52,
     "metadata": {},
     "output_type": "execute_result"
    }
   ],
   "source": [
    "# Creamos un dataset filtrado sin valores ausentes en power y construimos una tabla dinámica agrupando por model\n",
    "power_no_missing_values = df_filtered.dropna(subset=['power'])\n",
    "power_model = power_no_missing_values.pivot_table(index=['model'], values='power', aggfunc='median')\n",
    "\n",
    "# Creamos la función fill_power\n",
    "def fill_power(row):\n",
    "    '''\n",
    "    Devuelve la mediana en función del modelo del auto, si no es posible devuelve 'Error'\n",
    "    \n",
    "    :param row: fila con la información que requiere ser rellenada\n",
    "    '''\n",
    "    model = row['model']\n",
    "    power = row['power']\n",
    "    \n",
    "    if pd.isna(power):\n",
    "        try:\n",
    "            return power_model.loc[model, 'power']\n",
    "        except:\n",
    "            return 'Error'\n",
    "    return power\n",
    "\n",
    "# Comprobamos que la función trabaje correctamente\n",
    "row_values = ['100', np.nan]\n",
    "row_columns = ['model', 'power']\n",
    "row = pd.Series(data=row_values, index=row_columns)\n",
    "fill_power(row)"
   ]
  },
  {
   "cell_type": "code",
   "execution_count": 53,
   "metadata": {},
   "outputs": [],
   "source": [
    "# Aplicamos la función a nuestro dataset\n",
    "df_filtered['power'] = df_filtered.apply(fill_power, axis = 1)"
   ]
  },
  {
   "cell_type": "code",
   "execution_count": 54,
   "metadata": {},
   "outputs": [
    {
     "data": {
      "text/html": [
       "<div>\n",
       "<style scoped>\n",
       "    .dataframe tbody tr th:only-of-type {\n",
       "        vertical-align: middle;\n",
       "    }\n",
       "\n",
       "    .dataframe tbody tr th {\n",
       "        vertical-align: top;\n",
       "    }\n",
       "\n",
       "    .dataframe thead th {\n",
       "        text-align: right;\n",
       "    }\n",
       "</style>\n",
       "<table border=\"1\" class=\"dataframe\">\n",
       "  <thead>\n",
       "    <tr style=\"text-align: right;\">\n",
       "      <th></th>\n",
       "      <th>date_crawled</th>\n",
       "      <th>price</th>\n",
       "      <th>vehicle_type</th>\n",
       "      <th>registration_year</th>\n",
       "      <th>gearbox</th>\n",
       "      <th>power</th>\n",
       "      <th>model</th>\n",
       "      <th>mileage</th>\n",
       "      <th>registration_month</th>\n",
       "      <th>fuel_type</th>\n",
       "      <th>brand</th>\n",
       "      <th>not_repaired</th>\n",
       "      <th>date_created</th>\n",
       "      <th>postal_code</th>\n",
       "      <th>last_seen</th>\n",
       "    </tr>\n",
       "  </thead>\n",
       "  <tbody>\n",
       "    <tr>\n",
       "      <th>234175</th>\n",
       "      <td>2016-03-30 11:39:00</td>\n",
       "      <td>3800</td>\n",
       "      <td>wagon</td>\n",
       "      <td>1978</td>\n",
       "      <td>manual</td>\n",
       "      <td>Error</td>\n",
       "      <td>serie_1</td>\n",
       "      <td>30000</td>\n",
       "      <td>0</td>\n",
       "      <td>gasoline</td>\n",
       "      <td>land_rover</td>\n",
       "      <td>0</td>\n",
       "      <td>2016-03-30</td>\n",
       "      <td>49824</td>\n",
       "      <td>2016-03-30 11:39:00</td>\n",
       "    </tr>\n",
       "  </tbody>\n",
       "</table>\n",
       "</div>"
      ],
      "text/plain": [
       "              date_crawled  price vehicle_type  registration_year gearbox  \\\n",
       "234175 2016-03-30 11:39:00   3800        wagon               1978  manual   \n",
       "\n",
       "        power    model  mileage  registration_month fuel_type       brand  \\\n",
       "234175  Error  serie_1    30000                   0  gasoline  land_rover   \n",
       "\n",
       "        not_repaired date_created  postal_code           last_seen  \n",
       "234175             0   2016-03-30        49824 2016-03-30 11:39:00  "
      ]
     },
     "execution_count": 54,
     "metadata": {},
     "output_type": "execute_result"
    }
   ],
   "source": [
    "# Comprobamos si existen valores que no se rellenaron\n",
    "df_filtered[df_filtered['power'] == 'Error']"
   ]
  },
  {
   "cell_type": "markdown",
   "metadata": {},
   "source": [
    "Uno de los valores de potencia no fue correctamente rellenado, este corresponde al vehículo Land Rover serie 1. La potencia de esta marca y modelo de vehículo es 50cv, así que rellenaremos este valor NaN con la información consultada. "
   ]
  },
  {
   "cell_type": "code",
   "execution_count": 55,
   "metadata": {},
   "outputs": [
    {
     "name": "stdout",
     "output_type": "stream",
     "text": [
      "Número de errores en power: 0\n",
      "count    327071.000000\n",
      "mean        120.832834\n",
      "std          60.931922\n",
      "min          50.000000\n",
      "25%          75.000000\n",
      "50%         110.000000\n",
      "75%         147.000000\n",
      "max        2000.000000\n",
      "Name: power, dtype: float64\n"
     ]
    }
   ],
   "source": [
    "# Colocamos el valor de potencia correspondiente al modelo del vehículo\n",
    "df_filtered.loc[df_filtered['power'] == 'Error', 'power'] = 50\n",
    "\n",
    "# Convertimos power en tipo entero\n",
    "df_filtered['power'] = df_filtered['power'].astype('int')\n",
    "\n",
    "# Comprobamos los resultados\n",
    "print('Número de errores en power:', len(df_filtered[df_filtered['power'] == 'Error']))\n",
    "print(df_filtered['power'].describe())"
   ]
  },
  {
   "cell_type": "markdown",
   "metadata": {},
   "source": [
    "#### Valores atípicos `registration_month`\n",
    "\n",
    "Al explorar el dataset inicial nos encontramos con valores cero para el mes de matriculación del vehículo, estos podrían estar relacionados con que el vendedor no proveyó esa información. Así que lo reemplazaremos por la mediana de la columna. \n"
   ]
  },
  {
   "cell_type": "code",
   "execution_count": 56,
   "metadata": {},
   "outputs": [
    {
     "data": {
      "text/plain": [
       "3     0.099498\n",
       "6     0.090531\n",
       "0     0.086415\n",
       "4     0.084141\n",
       "5     0.083811\n",
       "7     0.078463\n",
       "10    0.075549\n",
       "11    0.070025\n",
       "12    0.069707\n",
       "9     0.069016\n",
       "1     0.066560\n",
       "8     0.065029\n",
       "2     0.061256\n",
       "Name: registration_month, dtype: float64"
      ]
     },
     "execution_count": 56,
     "metadata": {},
     "output_type": "execute_result"
    }
   ],
   "source": [
    "# Verificamos el recuento de valores únicos para registration_month\n",
    "df_filtered['registration_month'].value_counts(normalize=True)"
   ]
  },
  {
   "cell_type": "markdown",
   "metadata": {},
   "source": [
    "Procedemos a reemplazar los valores cero con la mediana del mes de matriculación, y comprobamos los cambios llamando a `value_counts`."
   ]
  },
  {
   "cell_type": "code",
   "execution_count": 57,
   "metadata": {},
   "outputs": [
    {
     "data": {
      "text/plain": [
       "6     0.176946\n",
       "3     0.099498\n",
       "4     0.084141\n",
       "5     0.083811\n",
       "7     0.078463\n",
       "10    0.075549\n",
       "11    0.070025\n",
       "12    0.069707\n",
       "9     0.069016\n",
       "1     0.066560\n",
       "8     0.065029\n",
       "2     0.061256\n",
       "Name: registration_month, dtype: float64"
      ]
     },
     "execution_count": 57,
     "metadata": {},
     "output_type": "execute_result"
    }
   ],
   "source": [
    "# Reemplazamos los valores cero por la mediana de la columna\n",
    "df_filtered['registration_month'] = (df_filtered['registration_month'].replace(0, \n",
    "                                                                              df_filtered['registration_month'].median())\n",
    "                                     .astype('int'))\n",
    "\n",
    "# Comprobamos los cambios realizados\n",
    "df_filtered['registration_month'].value_counts(normalize=True)"
   ]
  },
  {
   "cell_type": "markdown",
   "metadata": {},
   "source": [
    "#### Cálculo edad del vehículo\n",
    "\n",
    "Ahora añadiremos una nueva característica al dataset `car_age` a partir del año en que se creo el perfil de usuario y el año en que se matriculó el vehículo. "
   ]
  },
  {
   "cell_type": "code",
   "execution_count": 58,
   "metadata": {},
   "outputs": [
    {
     "data": {
      "text/plain": [
       "count    327071.000000\n",
       "mean         13.376888\n",
       "std           6.864718\n",
       "min           0.000000\n",
       "25%           9.000000\n",
       "50%          13.000000\n",
       "75%          17.000000\n",
       "max         106.000000\n",
       "Name: car_age, dtype: float64"
      ]
     },
     "execution_count": 58,
     "metadata": {},
     "output_type": "execute_result"
    }
   ],
   "source": [
    "# Calculamos la edad de cada vehículo\n",
    "df_filtered['car_age'] = df_filtered['date_created'].dt.year - df['registration_year']\n",
    "\n",
    "# Comprobamos los valores calculados\n",
    "df_filtered['car_age'].describe()"
   ]
  },
  {
   "cell_type": "markdown",
   "metadata": {},
   "source": [
    "#### Dataset Final\n",
    "\n",
    "Finalizamos filtrando aquellas columnas que no serán útiles en la construcción de nuestros modelos. En esta caso, elimnaremos las características de fecha, código postal y fecha de matriculación, para esta última se ha creado la nueva columna car_age que presenta los años del vehículo y estaría relacionada con el año de matriculación del vehículo. "
   ]
  },
  {
   "cell_type": "code",
   "execution_count": 59,
   "metadata": {},
   "outputs": [
    {
     "data": {
      "text/html": [
       "<div>\n",
       "<style scoped>\n",
       "    .dataframe tbody tr th:only-of-type {\n",
       "        vertical-align: middle;\n",
       "    }\n",
       "\n",
       "    .dataframe tbody tr th {\n",
       "        vertical-align: top;\n",
       "    }\n",
       "\n",
       "    .dataframe thead th {\n",
       "        text-align: right;\n",
       "    }\n",
       "</style>\n",
       "<table border=\"1\" class=\"dataframe\">\n",
       "  <thead>\n",
       "    <tr style=\"text-align: right;\">\n",
       "      <th></th>\n",
       "      <th>price</th>\n",
       "      <th>vehicle_type</th>\n",
       "      <th>gearbox</th>\n",
       "      <th>power</th>\n",
       "      <th>model</th>\n",
       "      <th>mileage</th>\n",
       "      <th>fuel_type</th>\n",
       "      <th>brand</th>\n",
       "      <th>not_repaired</th>\n",
       "      <th>car_age</th>\n",
       "    </tr>\n",
       "  </thead>\n",
       "  <tbody>\n",
       "    <tr>\n",
       "      <th>0</th>\n",
       "      <td>480</td>\n",
       "      <td>sedan</td>\n",
       "      <td>manual</td>\n",
       "      <td>101</td>\n",
       "      <td>golf</td>\n",
       "      <td>150000</td>\n",
       "      <td>gasoline</td>\n",
       "      <td>volkswagen</td>\n",
       "      <td>0</td>\n",
       "      <td>23.0</td>\n",
       "    </tr>\n",
       "    <tr>\n",
       "      <th>1</th>\n",
       "      <td>18300</td>\n",
       "      <td>coupe</td>\n",
       "      <td>manual</td>\n",
       "      <td>190</td>\n",
       "      <td>a4</td>\n",
       "      <td>125000</td>\n",
       "      <td>gasoline</td>\n",
       "      <td>audi</td>\n",
       "      <td>1</td>\n",
       "      <td>5.0</td>\n",
       "    </tr>\n",
       "    <tr>\n",
       "      <th>2</th>\n",
       "      <td>9800</td>\n",
       "      <td>suv</td>\n",
       "      <td>auto</td>\n",
       "      <td>163</td>\n",
       "      <td>grand</td>\n",
       "      <td>125000</td>\n",
       "      <td>gasoline</td>\n",
       "      <td>jeep</td>\n",
       "      <td>0</td>\n",
       "      <td>12.0</td>\n",
       "    </tr>\n",
       "    <tr>\n",
       "      <th>3</th>\n",
       "      <td>1500</td>\n",
       "      <td>small</td>\n",
       "      <td>manual</td>\n",
       "      <td>75</td>\n",
       "      <td>golf</td>\n",
       "      <td>150000</td>\n",
       "      <td>gasoline</td>\n",
       "      <td>volkswagen</td>\n",
       "      <td>0</td>\n",
       "      <td>15.0</td>\n",
       "    </tr>\n",
       "    <tr>\n",
       "      <th>4</th>\n",
       "      <td>3600</td>\n",
       "      <td>small</td>\n",
       "      <td>manual</td>\n",
       "      <td>69</td>\n",
       "      <td>fabia</td>\n",
       "      <td>90000</td>\n",
       "      <td>gasoline</td>\n",
       "      <td>skoda</td>\n",
       "      <td>0</td>\n",
       "      <td>8.0</td>\n",
       "    </tr>\n",
       "  </tbody>\n",
       "</table>\n",
       "</div>"
      ],
      "text/plain": [
       "   price vehicle_type gearbox  power  model  mileage fuel_type       brand  \\\n",
       "0    480        sedan  manual    101   golf   150000  gasoline  volkswagen   \n",
       "1  18300        coupe  manual    190     a4   125000  gasoline        audi   \n",
       "2   9800          suv    auto    163  grand   125000  gasoline        jeep   \n",
       "3   1500        small  manual     75   golf   150000  gasoline  volkswagen   \n",
       "4   3600        small  manual     69  fabia    90000  gasoline       skoda   \n",
       "\n",
       "   not_repaired  car_age  \n",
       "0             0     23.0  \n",
       "1             1      5.0  \n",
       "2             0     12.0  \n",
       "3             0     15.0  \n",
       "4             0      8.0  "
      ]
     },
     "execution_count": 59,
     "metadata": {},
     "output_type": "execute_result"
    }
   ],
   "source": [
    "df_final = df_filtered.drop(['date_crawled', 'registration_year','registration_month', 'date_created', 'postal_code', 'last_seen'], axis=1)\n",
    "\n",
    "df_final.head()"
   ]
  },
  {
   "cell_type": "code",
   "execution_count": 60,
   "metadata": {},
   "outputs": [
    {
     "data": {
      "text/html": [
       "<div>\n",
       "<style scoped>\n",
       "    .dataframe tbody tr th:only-of-type {\n",
       "        vertical-align: middle;\n",
       "    }\n",
       "\n",
       "    .dataframe tbody tr th {\n",
       "        vertical-align: top;\n",
       "    }\n",
       "\n",
       "    .dataframe thead th {\n",
       "        text-align: right;\n",
       "    }\n",
       "</style>\n",
       "<table border=\"1\" class=\"dataframe\">\n",
       "  <thead>\n",
       "    <tr style=\"text-align: right;\">\n",
       "      <th></th>\n",
       "      <th>price</th>\n",
       "      <th>power</th>\n",
       "      <th>mileage</th>\n",
       "      <th>not_repaired</th>\n",
       "      <th>car_age</th>\n",
       "    </tr>\n",
       "  </thead>\n",
       "  <tbody>\n",
       "    <tr>\n",
       "      <th>count</th>\n",
       "      <td>327071.000000</td>\n",
       "      <td>327071.000000</td>\n",
       "      <td>327071.000000</td>\n",
       "      <td>327071.000000</td>\n",
       "      <td>327071.000000</td>\n",
       "    </tr>\n",
       "    <tr>\n",
       "      <th>mean</th>\n",
       "      <td>4639.853903</td>\n",
       "      <td>120.832834</td>\n",
       "      <td>128359.973828</td>\n",
       "      <td>0.099128</td>\n",
       "      <td>13.376888</td>\n",
       "    </tr>\n",
       "    <tr>\n",
       "      <th>std</th>\n",
       "      <td>4546.295861</td>\n",
       "      <td>60.931922</td>\n",
       "      <td>37257.806549</td>\n",
       "      <td>0.298835</td>\n",
       "      <td>6.864718</td>\n",
       "    </tr>\n",
       "    <tr>\n",
       "      <th>min</th>\n",
       "      <td>99.000000</td>\n",
       "      <td>50.000000</td>\n",
       "      <td>5000.000000</td>\n",
       "      <td>0.000000</td>\n",
       "      <td>0.000000</td>\n",
       "    </tr>\n",
       "    <tr>\n",
       "      <th>25%</th>\n",
       "      <td>1200.000000</td>\n",
       "      <td>75.000000</td>\n",
       "      <td>125000.000000</td>\n",
       "      <td>0.000000</td>\n",
       "      <td>9.000000</td>\n",
       "    </tr>\n",
       "    <tr>\n",
       "      <th>50%</th>\n",
       "      <td>2950.000000</td>\n",
       "      <td>110.000000</td>\n",
       "      <td>150000.000000</td>\n",
       "      <td>0.000000</td>\n",
       "      <td>13.000000</td>\n",
       "    </tr>\n",
       "    <tr>\n",
       "      <th>75%</th>\n",
       "      <td>6700.000000</td>\n",
       "      <td>147.000000</td>\n",
       "      <td>150000.000000</td>\n",
       "      <td>0.000000</td>\n",
       "      <td>17.000000</td>\n",
       "    </tr>\n",
       "    <tr>\n",
       "      <th>max</th>\n",
       "      <td>20000.000000</td>\n",
       "      <td>2000.000000</td>\n",
       "      <td>150000.000000</td>\n",
       "      <td>1.000000</td>\n",
       "      <td>106.000000</td>\n",
       "    </tr>\n",
       "  </tbody>\n",
       "</table>\n",
       "</div>"
      ],
      "text/plain": [
       "               price          power        mileage   not_repaired  \\\n",
       "count  327071.000000  327071.000000  327071.000000  327071.000000   \n",
       "mean     4639.853903     120.832834  128359.973828       0.099128   \n",
       "std      4546.295861      60.931922   37257.806549       0.298835   \n",
       "min        99.000000      50.000000    5000.000000       0.000000   \n",
       "25%      1200.000000      75.000000  125000.000000       0.000000   \n",
       "50%      2950.000000     110.000000  150000.000000       0.000000   \n",
       "75%      6700.000000     147.000000  150000.000000       0.000000   \n",
       "max     20000.000000    2000.000000  150000.000000       1.000000   \n",
       "\n",
       "             car_age  \n",
       "count  327071.000000  \n",
       "mean       13.376888  \n",
       "std         6.864718  \n",
       "min         0.000000  \n",
       "25%         9.000000  \n",
       "50%        13.000000  \n",
       "75%        17.000000  \n",
       "max       106.000000  "
      ]
     },
     "execution_count": 60,
     "metadata": {},
     "output_type": "execute_result"
    }
   ],
   "source": [
    "df_final.describe()"
   ]
  },
  {
   "cell_type": "code",
   "execution_count": 61,
   "metadata": {},
   "outputs": [
    {
     "name": "stdout",
     "output_type": "stream",
     "text": [
      "<class 'pandas.core.frame.DataFrame'>\n",
      "Int64Index: 327071 entries, 0 to 354106\n",
      "Data columns (total 10 columns):\n",
      " #   Column        Non-Null Count   Dtype  \n",
      "---  ------        --------------   -----  \n",
      " 0   price         327071 non-null  int64  \n",
      " 1   vehicle_type  327071 non-null  object \n",
      " 2   gearbox       327071 non-null  object \n",
      " 3   power         327071 non-null  int64  \n",
      " 4   model         327071 non-null  object \n",
      " 5   mileage       327071 non-null  int64  \n",
      " 6   fuel_type     327071 non-null  object \n",
      " 7   brand         327071 non-null  object \n",
      " 8   not_repaired  327071 non-null  int64  \n",
      " 9   car_age       327071 non-null  float64\n",
      "dtypes: float64(1), int64(4), object(5)\n",
      "memory usage: 35.5+ MB\n"
     ]
    }
   ],
   "source": [
    "df_final.info()"
   ]
  },
  {
   "cell_type": "markdown",
   "metadata": {},
   "source": [
    "## Entrenamiento del modelo \n",
    "\n",
    "Con los valores ausentes y atípicos corregidos, procedemos a construir varios modelos de machine learning que cumplan con lo establecido por la compañía. En este caso, compararemos modelos de árbol de decisión, bosque aleatorio y regresión lineal con métodos de potenciación de gradiente: LightGBM, CatBoost y XGBoost. En este dataset, las características `brand` y `model` cuentan con 40 y 250 categorías respectivamente, así que será necesario tomar en consideración que método de codificación se utilizará para cada modelo ya que se tratarían de variables de alta cardinalidad. Por ejemplo, One-Hot Encoding será útil para nuestro modelo de regresión lineal, sin embargo no lo será para nuestros modelos de árboles ya que procesan una función a la vez. Por esta razón, generaremos diferentes datasets con características codificadas y estandarizadas acorde al algoritmo de aprendizaje que se utilizará. Mediremos la velocidad de entrenamiento y predicción de cada modelo, y su calidad será medida a través del RECM.\n",
    "\n",
    "**Nota:** el tiempo obtenido a través del método time de python variará cada vez que se corra el kernel, así que los valores obtenidos serán aproximados. \n",
    "\n",
    "### Regresión Lineal\n",
    "\n",
    "Para la regresión lineal la mejor técnica de codificación es OHE (One-Hot Encoding) ya que las categorías se codifican de una manera que se asigna la misma importancia a todas, pero sin perder sus diferencias. A su vez, realizamos la estandarización de las características numéricas a través de StandardScaler. Utilizaremos la regresión lineal como nuestra prueba de corduda, buscando que los métodos de potenciación de gradiente presenten una mejor calidad.  "
   ]
  },
  {
   "cell_type": "code",
   "execution_count": 62,
   "metadata": {},
   "outputs": [
    {
     "data": {
      "text/html": [
       "<div>\n",
       "<style scoped>\n",
       "    .dataframe tbody tr th:only-of-type {\n",
       "        vertical-align: middle;\n",
       "    }\n",
       "\n",
       "    .dataframe tbody tr th {\n",
       "        vertical-align: top;\n",
       "    }\n",
       "\n",
       "    .dataframe thead th {\n",
       "        text-align: right;\n",
       "    }\n",
       "</style>\n",
       "<table border=\"1\" class=\"dataframe\">\n",
       "  <thead>\n",
       "    <tr style=\"text-align: right;\">\n",
       "      <th></th>\n",
       "      <th>price</th>\n",
       "      <th>power</th>\n",
       "      <th>mileage</th>\n",
       "      <th>not_repaired</th>\n",
       "      <th>car_age</th>\n",
       "      <th>vehicle_type_convertible</th>\n",
       "      <th>vehicle_type_coupe</th>\n",
       "      <th>vehicle_type_other</th>\n",
       "      <th>vehicle_type_sedan</th>\n",
       "      <th>vehicle_type_small</th>\n",
       "      <th>...</th>\n",
       "      <th>brand_seat</th>\n",
       "      <th>brand_skoda</th>\n",
       "      <th>brand_smart</th>\n",
       "      <th>brand_sonstige_autos</th>\n",
       "      <th>brand_subaru</th>\n",
       "      <th>brand_suzuki</th>\n",
       "      <th>brand_toyota</th>\n",
       "      <th>brand_trabant</th>\n",
       "      <th>brand_volkswagen</th>\n",
       "      <th>brand_volvo</th>\n",
       "    </tr>\n",
       "  </thead>\n",
       "  <tbody>\n",
       "    <tr>\n",
       "      <th>0</th>\n",
       "      <td>480</td>\n",
       "      <td>-0.325492</td>\n",
       "      <td>0.580819</td>\n",
       "      <td>0</td>\n",
       "      <td>1.401824</td>\n",
       "      <td>0</td>\n",
       "      <td>0</td>\n",
       "      <td>0</td>\n",
       "      <td>1</td>\n",
       "      <td>0</td>\n",
       "      <td>...</td>\n",
       "      <td>0</td>\n",
       "      <td>0</td>\n",
       "      <td>0</td>\n",
       "      <td>0</td>\n",
       "      <td>0</td>\n",
       "      <td>0</td>\n",
       "      <td>0</td>\n",
       "      <td>0</td>\n",
       "      <td>1</td>\n",
       "      <td>0</td>\n",
       "    </tr>\n",
       "    <tr>\n",
       "      <th>1</th>\n",
       "      <td>18300</td>\n",
       "      <td>1.135157</td>\n",
       "      <td>-0.090182</td>\n",
       "      <td>1</td>\n",
       "      <td>-1.220283</td>\n",
       "      <td>0</td>\n",
       "      <td>1</td>\n",
       "      <td>0</td>\n",
       "      <td>0</td>\n",
       "      <td>0</td>\n",
       "      <td>...</td>\n",
       "      <td>0</td>\n",
       "      <td>0</td>\n",
       "      <td>0</td>\n",
       "      <td>0</td>\n",
       "      <td>0</td>\n",
       "      <td>0</td>\n",
       "      <td>0</td>\n",
       "      <td>0</td>\n",
       "      <td>0</td>\n",
       "      <td>0</td>\n",
       "    </tr>\n",
       "    <tr>\n",
       "      <th>2</th>\n",
       "      <td>9800</td>\n",
       "      <td>0.692038</td>\n",
       "      <td>-0.090182</td>\n",
       "      <td>0</td>\n",
       "      <td>-0.200575</td>\n",
       "      <td>0</td>\n",
       "      <td>0</td>\n",
       "      <td>0</td>\n",
       "      <td>0</td>\n",
       "      <td>0</td>\n",
       "      <td>...</td>\n",
       "      <td>0</td>\n",
       "      <td>0</td>\n",
       "      <td>0</td>\n",
       "      <td>0</td>\n",
       "      <td>0</td>\n",
       "      <td>0</td>\n",
       "      <td>0</td>\n",
       "      <td>0</td>\n",
       "      <td>0</td>\n",
       "      <td>0</td>\n",
       "    </tr>\n",
       "    <tr>\n",
       "      <th>3</th>\n",
       "      <td>1500</td>\n",
       "      <td>-0.752199</td>\n",
       "      <td>0.580819</td>\n",
       "      <td>0</td>\n",
       "      <td>0.236443</td>\n",
       "      <td>0</td>\n",
       "      <td>0</td>\n",
       "      <td>0</td>\n",
       "      <td>0</td>\n",
       "      <td>1</td>\n",
       "      <td>...</td>\n",
       "      <td>0</td>\n",
       "      <td>0</td>\n",
       "      <td>0</td>\n",
       "      <td>0</td>\n",
       "      <td>0</td>\n",
       "      <td>0</td>\n",
       "      <td>0</td>\n",
       "      <td>0</td>\n",
       "      <td>1</td>\n",
       "      <td>0</td>\n",
       "    </tr>\n",
       "    <tr>\n",
       "      <th>4</th>\n",
       "      <td>3600</td>\n",
       "      <td>-0.850669</td>\n",
       "      <td>-1.029584</td>\n",
       "      <td>0</td>\n",
       "      <td>-0.783265</td>\n",
       "      <td>0</td>\n",
       "      <td>0</td>\n",
       "      <td>0</td>\n",
       "      <td>0</td>\n",
       "      <td>1</td>\n",
       "      <td>...</td>\n",
       "      <td>0</td>\n",
       "      <td>1</td>\n",
       "      <td>0</td>\n",
       "      <td>0</td>\n",
       "      <td>0</td>\n",
       "      <td>0</td>\n",
       "      <td>0</td>\n",
       "      <td>0</td>\n",
       "      <td>0</td>\n",
       "      <td>0</td>\n",
       "    </tr>\n",
       "  </tbody>\n",
       "</table>\n",
       "<p>5 rows × 309 columns</p>\n",
       "</div>"
      ],
      "text/plain": [
       "   price     power   mileage  not_repaired   car_age  \\\n",
       "0    480 -0.325492  0.580819             0  1.401824   \n",
       "1  18300  1.135157 -0.090182             1 -1.220283   \n",
       "2   9800  0.692038 -0.090182             0 -0.200575   \n",
       "3   1500 -0.752199  0.580819             0  0.236443   \n",
       "4   3600 -0.850669 -1.029584             0 -0.783265   \n",
       "\n",
       "   vehicle_type_convertible  vehicle_type_coupe  vehicle_type_other  \\\n",
       "0                         0                   0                   0   \n",
       "1                         0                   1                   0   \n",
       "2                         0                   0                   0   \n",
       "3                         0                   0                   0   \n",
       "4                         0                   0                   0   \n",
       "\n",
       "   vehicle_type_sedan  vehicle_type_small  ...  brand_seat  brand_skoda  \\\n",
       "0                   1                   0  ...           0            0   \n",
       "1                   0                   0  ...           0            0   \n",
       "2                   0                   0  ...           0            0   \n",
       "3                   0                   1  ...           0            0   \n",
       "4                   0                   1  ...           0            1   \n",
       "\n",
       "   brand_smart  brand_sonstige_autos  brand_subaru  brand_suzuki  \\\n",
       "0            0                     0             0             0   \n",
       "1            0                     0             0             0   \n",
       "2            0                     0             0             0   \n",
       "3            0                     0             0             0   \n",
       "4            0                     0             0             0   \n",
       "\n",
       "   brand_toyota  brand_trabant  brand_volkswagen  brand_volvo  \n",
       "0             0              0                 1            0  \n",
       "1             0              0                 0            0  \n",
       "2             0              0                 0            0  \n",
       "3             0              0                 1            0  \n",
       "4             0              0                 0            0  \n",
       "\n",
       "[5 rows x 309 columns]"
      ]
     },
     "execution_count": 62,
     "metadata": {},
     "output_type": "execute_result"
    }
   ],
   "source": [
    "# Codificamos las características categóricas a través de get_dummies\n",
    "df_ohe = pd.get_dummies(df_final, drop_first=True)\n",
    "\n",
    "# Establecemos las características numéricas\n",
    "numeric_ohe = ['power', 'mileage', 'car_age']\n",
    "\n",
    "# Escalamos los datos numéricos \n",
    "scaler = StandardScaler()\n",
    "scaler.fit(df_ohe[numeric_ohe])\n",
    "df_ohe[numeric_ohe] = scaler.transform(df_ohe[numeric_ohe])\n",
    "df_ohe.head()"
   ]
  },
  {
   "cell_type": "code",
   "execution_count": 63,
   "metadata": {},
   "outputs": [
    {
     "name": "stdout",
     "output_type": "stream",
     "text": [
      "Tamaño del conjunto de entrenamiento OHE: (245303, 308), (245303,)\n",
      "Tamaño del conjunto de prueba OHE: (81768, 308), (81768,)\n"
     ]
    }
   ],
   "source": [
    "# Establecemos características y objetivo para la regresión lineal\n",
    "x_ohe = df_ohe.drop('price', axis=1)\n",
    "y_ohe = df_ohe['price']\n",
    "\n",
    "# Dividimos en un conjunto de entrenamiento y prueba en proporción 75:25\n",
    "x_train_ohe, x_test_ohe, y_train_ohe, y_test_ohe = train_test_split(x_ohe, y_ohe, test_size=0.25, random_state=12345)\n",
    "\n",
    "# Comprobamos que los datos se dividieron correctamente\n",
    "print(f'Tamaño del conjunto de entrenamiento OHE: {x_train_ohe.shape}, {y_train_ohe.shape}')\n",
    "print(f'Tamaño del conjunto de prueba OHE: {x_test_ohe.shape}, {y_test_ohe.shape}')"
   ]
  },
  {
   "cell_type": "code",
   "execution_count": 92,
   "metadata": {},
   "outputs": [
    {
     "name": "stdout",
     "output_type": "stream",
     "text": [
      "RECM Regresión Lineal: 2844.636\n",
      "Tiempo de entrenamiento: 20.660s\n",
      "Tiempo de prueba: 0.134s\n"
     ]
    }
   ],
   "source": [
    "# Entrenamos el modelo de regresión lineal\n",
    "start_train = time.time()\n",
    "lr_model = LinearRegression()\n",
    "lr_model.fit(x_train_ohe, y_train_ohe)\n",
    "end_train = time.time()\n",
    "\n",
    "# Realizamos predicciones\n",
    "start_test = time.time()\n",
    "y_pred = lr_model.predict(x_test_ohe)\n",
    "end_test = time.time()\n",
    "\n",
    "# Establecemos el RECM para nuestra prueba de cordura\n",
    "RECM_lr = mean_squared_error(y_test_ohe, y_pred)**0.5\n",
    "print(f'RECM Regresión Lineal: {RECM_lr:.3f}')\n",
    "print(f'Tiempo de entrenamiento: {end_train - start_train:.3f}s')\n",
    "print(f'Tiempo de prueba: {end_test - start_test:.3f}s')      "
   ]
  },
  {
   "cell_type": "markdown",
   "metadata": {},
   "source": [
    "El modelo de regresión lineal devolvió un RECM de 2844, estA será nuestra prueba de cordura y servirá como valor base para comparar los otros modelos y métodos de potenciación de gradiente. Si un modelo de potenciación de gradiente funciona peor que 2844 entonces algó habrá salido mal. El tiempo de entrenamiento fue de ≈20s y el tiempo para realizar predicciones fue ≈0.18s."
   ]
  },
  {
   "cell_type": "markdown",
   "metadata": {},
   "source": [
    "### Árbol de Decisión\n",
    "\n",
    "Al contar con características con alta cardinalidad, lo mejor será cambiar el método de codificación. De acuerdo a un artículo de [Towards Data Science](https://towardsdatascience.com/one-hot-encoding-is-making-your-tree-based-ensembles-worse-heres-why-d64b282b5769), el uso de OHE en variables con un gran número de categorías disminuye la eficiencia de modelos basados en árboles, ya que genera árboles de decisión muy escasos con pocas opciones de división, sobretodo al tratar con solo dos categorías en one-hot encoding. Además, ocasiona que el modelo otorgue una mayor importancia a aquellas características continuas, dando menor importancia a características categóricas, y como resultado disminuyendo la calidad y rendimiento del modelo. Considerando todo esto utilizaremos la codificación de etiquetas para construir nuestros modelos de árboles. \n",
    "\n",
    "Utilizaremos `GridsearchCV` para encontrar los mejores hiperparámetros, entrenaremos nuestro modelo y mediremos el tiempo de entrenamiento y prueba con la librería time de Python. "
   ]
  },
  {
   "cell_type": "code",
   "execution_count": 65,
   "metadata": {},
   "outputs": [
    {
     "data": {
      "text/html": [
       "<div>\n",
       "<style scoped>\n",
       "    .dataframe tbody tr th:only-of-type {\n",
       "        vertical-align: middle;\n",
       "    }\n",
       "\n",
       "    .dataframe tbody tr th {\n",
       "        vertical-align: top;\n",
       "    }\n",
       "\n",
       "    .dataframe thead th {\n",
       "        text-align: right;\n",
       "    }\n",
       "</style>\n",
       "<table border=\"1\" class=\"dataframe\">\n",
       "  <thead>\n",
       "    <tr style=\"text-align: right;\">\n",
       "      <th></th>\n",
       "      <th>price</th>\n",
       "      <th>vehicle_type</th>\n",
       "      <th>gearbox</th>\n",
       "      <th>power</th>\n",
       "      <th>model</th>\n",
       "      <th>mileage</th>\n",
       "      <th>fuel_type</th>\n",
       "      <th>brand</th>\n",
       "      <th>not_repaired</th>\n",
       "      <th>car_age</th>\n",
       "    </tr>\n",
       "  </thead>\n",
       "  <tbody>\n",
       "    <tr>\n",
       "      <th>0</th>\n",
       "      <td>480</td>\n",
       "      <td>4.0</td>\n",
       "      <td>1.0</td>\n",
       "      <td>101</td>\n",
       "      <td>116.0</td>\n",
       "      <td>150000</td>\n",
       "      <td>2.0</td>\n",
       "      <td>38.0</td>\n",
       "      <td>0</td>\n",
       "      <td>23.0</td>\n",
       "    </tr>\n",
       "    <tr>\n",
       "      <th>1</th>\n",
       "      <td>18300</td>\n",
       "      <td>2.0</td>\n",
       "      <td>1.0</td>\n",
       "      <td>190</td>\n",
       "      <td>29.0</td>\n",
       "      <td>125000</td>\n",
       "      <td>2.0</td>\n",
       "      <td>1.0</td>\n",
       "      <td>1</td>\n",
       "      <td>5.0</td>\n",
       "    </tr>\n",
       "    <tr>\n",
       "      <th>2</th>\n",
       "      <td>9800</td>\n",
       "      <td>6.0</td>\n",
       "      <td>0.0</td>\n",
       "      <td>163</td>\n",
       "      <td>117.0</td>\n",
       "      <td>125000</td>\n",
       "      <td>2.0</td>\n",
       "      <td>14.0</td>\n",
       "      <td>0</td>\n",
       "      <td>12.0</td>\n",
       "    </tr>\n",
       "    <tr>\n",
       "      <th>3</th>\n",
       "      <td>1500</td>\n",
       "      <td>5.0</td>\n",
       "      <td>1.0</td>\n",
       "      <td>75</td>\n",
       "      <td>116.0</td>\n",
       "      <td>150000</td>\n",
       "      <td>2.0</td>\n",
       "      <td>38.0</td>\n",
       "      <td>0</td>\n",
       "      <td>15.0</td>\n",
       "    </tr>\n",
       "    <tr>\n",
       "      <th>4</th>\n",
       "      <td>3600</td>\n",
       "      <td>5.0</td>\n",
       "      <td>1.0</td>\n",
       "      <td>69</td>\n",
       "      <td>101.0</td>\n",
       "      <td>90000</td>\n",
       "      <td>2.0</td>\n",
       "      <td>31.0</td>\n",
       "      <td>0</td>\n",
       "      <td>8.0</td>\n",
       "    </tr>\n",
       "  </tbody>\n",
       "</table>\n",
       "</div>"
      ],
      "text/plain": [
       "   price  vehicle_type  gearbox  power  model  mileage  fuel_type  brand  \\\n",
       "0    480           4.0      1.0    101  116.0   150000        2.0   38.0   \n",
       "1  18300           2.0      1.0    190   29.0   125000        2.0    1.0   \n",
       "2   9800           6.0      0.0    163  117.0   125000        2.0   14.0   \n",
       "3   1500           5.0      1.0     75  116.0   150000        2.0   38.0   \n",
       "4   3600           5.0      1.0     69  101.0    90000        2.0   31.0   \n",
       "\n",
       "   not_repaired  car_age  \n",
       "0             0     23.0  \n",
       "1             1      5.0  \n",
       "2             0     12.0  \n",
       "3             0     15.0  \n",
       "4             0      8.0  "
      ]
     },
     "execution_count": 65,
     "metadata": {},
     "output_type": "execute_result"
    }
   ],
   "source": [
    "# Creamos una copia de nuestro dataset final que contendrá categorías con codificación de etiquetas\n",
    "df_ordinal = df_final.copy()\n",
    "# Establecemos las características categóricas\n",
    "cat_features = ['vehicle_type', 'gearbox', 'model', 'fuel_type', 'brand']\n",
    "\n",
    "# Codificamos las características categóricas y comprobamos los cambios\n",
    "encoder = OrdinalEncoder() \n",
    "encoder.fit(df_final[cat_features]) \n",
    "df_ordinal[cat_features] = pd.DataFrame(encoder.transform(df[cat_features]),columns=cat_features) \n",
    "df_ordinal.head()"
   ]
  },
  {
   "cell_type": "code",
   "execution_count": 66,
   "metadata": {},
   "outputs": [
    {
     "name": "stdout",
     "output_type": "stream",
     "text": [
      "Tamaño del conjunto de entrenamiento ordinal: (245303, 9), (245303,)\n",
      "Tamaño del conjunto de prueba ordinal: (81768, 9), (81768,)\n"
     ]
    }
   ],
   "source": [
    "# Dividimos nuestro dataset en características y objetivo\n",
    "x_ord = df_ordinal.drop('price', axis=1)\n",
    "y_ord = df_ordinal['price']\n",
    "\n",
    "# Establecemos el conjunto de entrenamiento y prueba\n",
    "x_train_ord, x_test_ord, y_train_ord, y_test_ord = train_test_split(x_ord, y_ord, test_size=0.25, random_state=12345)\n",
    "\n",
    "# Comprobamos que los datos se dividieron correctamente\n",
    "print(f'Tamaño del conjunto de entrenamiento ordinal: {x_train_ord.shape}, {y_train_ord.shape}')\n",
    "print(f'Tamaño del conjunto de prueba ordinal: {x_test_ord.shape}, {y_test_ord.shape}')"
   ]
  },
  {
   "cell_type": "markdown",
   "metadata": {},
   "source": [
    "**AJUSTE DE HIPERPARÁMETROS**"
   ]
  },
  {
   "cell_type": "code",
   "execution_count": 67,
   "metadata": {},
   "outputs": [],
   "source": [
    "# Establecemos los hiperparámetros de árbol de decisión\n",
    "params_dt = {\n",
    "    'max_depth': [1, 2, 3, 4, 5, 6] ,\n",
    "    'min_samples_split': [2, 4, 6, 8],\n",
    "    'min_samples_leaf': [2, 4, 6, 8],\n",
    "}\n",
    "\n",
    "# Llamamos a la función GridSearchCV y pasamos los hiperparámetros establecidos, la metríca y el valor para validación cruzada\n",
    "gridSearch_dt = GridSearchCV(\n",
    "    estimator=DecisionTreeRegressor(),\n",
    "    param_grid=params_dt,\n",
    "    scoring='neg_root_mean_squared_error',\n",
    "    cv=3   \n",
    ")"
   ]
  },
  {
   "cell_type": "code",
   "execution_count": 68,
   "metadata": {},
   "outputs": [
    {
     "name": "stdout",
     "output_type": "stream",
     "text": [
      "Tiempo de ajuste de hiperparámetros Árbol de Decisión: 49.657s\n"
     ]
    }
   ],
   "source": [
    "# Entrenamos nuestro modelo para encontrar los mejores hiperparámetros\n",
    "start = time.time()\n",
    "gridSearch_dt.fit(x_train_ord, y_train_ord)\n",
    "end = time.time()\n",
    "\n",
    "print(f'Tiempo de ajuste de hiperparámetros Árbol de Decisión: {end-start:.3f}s')"
   ]
  },
  {
   "cell_type": "code",
   "execution_count": 69,
   "metadata": {},
   "outputs": [
    {
     "name": "stdout",
     "output_type": "stream",
     "text": [
      "Mejores hiperparámetros: {'max_depth': 6, 'min_samples_leaf': 2, 'min_samples_split': 2} | Mejor RECM: 2314.897\n"
     ]
    }
   ],
   "source": [
    "# Buscamos los mejores hiperparámetros que devolvieron el valor más bajo de RECM\n",
    "max_score = gridSearch_dt.cv_results_['mean_test_score'].max()\n",
    "index_max_score = np.where(gridSearch_dt.cv_results_['mean_test_score'] == max_score)[0][0]\n",
    "\n",
    "best_set_of_params = gridSearch_dt.cv_results_['params'][index_max_score]\n",
    "\n",
    "print(f'Mejores hiperparámetros: {best_set_of_params} | Mejor RECM: {-max_score:.3f}')"
   ]
  },
  {
   "cell_type": "markdown",
   "metadata": {},
   "source": [
    "**ENTRENAMIENTO DE MODELO**"
   ]
  },
  {
   "cell_type": "code",
   "execution_count": 70,
   "metadata": {},
   "outputs": [
    {
     "name": "stdout",
     "output_type": "stream",
     "text": [
      "RECM Árbol de Decisión: 2331.312\n",
      "Tiempo de entrenamiento: 0.398s\n",
      "Tiempo de prueba: 0.009s\n"
     ]
    }
   ],
   "source": [
    "# Entrenamos nuestro modelo con los mejores hiperparámetros y realizamos predicciones en el conjunto de prueba\n",
    "start_train = time.time()\n",
    "dt_model = DecisionTreeRegressor(random_state=12345, max_depth=6, min_samples_split=2, min_samples_leaf=2)\n",
    "dt_model.fit(x_train_ord, y_train_ord)\n",
    "end_train = time.time()\n",
    "\n",
    "start_test = time.time()\n",
    "y_pred_dt = dt_model.predict(x_test_ord)\n",
    "end_test = time.time()\n",
    "\n",
    "RECM_dt = mean_squared_error(y_test_ord, y_pred_dt)**0.5\n",
    "print(f'RECM Árbol de Decisión: {RECM_dt:.3f}')\n",
    "print(f'Tiempo de entrenamiento: {end_train - start_train:.3f}s')\n",
    "print(f'Tiempo de prueba: {end_test - start_test:.3f}s')  "
   ]
  },
  {
   "cell_type": "markdown",
   "metadata": {},
   "source": [
    "Los mejores hiperparámetros para el modelo de Árbol de Decisión fueron {'max_depth': 6, 'min_samples_leaf': 2, 'min_samples_split': 2}, registrando un RECM de 2331 con un tiempo de entrenamiento de ≈0.44s y un tiempo de ≈0.009s para realizar predicciones. "
   ]
  },
  {
   "cell_type": "markdown",
   "metadata": {},
   "source": [
    "### Bosque Aleatorio\n",
    "\n",
    "Al igual que con nuestro árbol de decisión utilizaremos nuestro conjunto de entrenamiento y prueba con codificación ordinal para características categóricas. \n",
    "\n",
    "**AJUSTE HIPERPARÁMETROS**"
   ]
  },
  {
   "cell_type": "code",
   "execution_count": 71,
   "metadata": {},
   "outputs": [],
   "source": [
    "# Establecemos los valores para determinar los mejores hiperparámetros\n",
    "params_rf = {\n",
    "    'n_estimators' : [10, 20, 40],\n",
    "    'max_depth': [1, 2, 3, 4, 5, 6] \n",
    "}\n",
    "\n",
    "# Llamamos a GridSearchCV y pasamos los valores de hiperparámetros, la métrica RECM y el valor de validación cruzada\n",
    "gridSearch_rf = GridSearchCV(\n",
    "    estimator=RandomForestRegressor(),\n",
    "    param_grid=params_rf,\n",
    "    scoring='neg_root_mean_squared_error',\n",
    "    cv=3   \n",
    ")"
   ]
  },
  {
   "cell_type": "code",
   "execution_count": 72,
   "metadata": {},
   "outputs": [
    {
     "name": "stdout",
     "output_type": "stream",
     "text": [
      "Tiempo de ajuste de hiperparámetros Bosque Aleatorio: 155.392s\n"
     ]
    }
   ],
   "source": [
    "# Entrenamos nuestro modelo para encontrar los mejores hiperparámetros\n",
    "start = time.time()\n",
    "gridSearch_rf.fit(x_train_ord, y_train_ord)\n",
    "end = time.time()\n",
    "\n",
    "print(f'Tiempo de ajuste de hiperparámetros Bosque Aleatorio: {end-start:.3f}s')"
   ]
  },
  {
   "cell_type": "code",
   "execution_count": 73,
   "metadata": {},
   "outputs": [
    {
     "name": "stdout",
     "output_type": "stream",
     "text": [
      "Mejores hiperparámetros: {'max_depth': 6, 'n_estimators': 40} | Mejor RECM: 2253.861\n"
     ]
    }
   ],
   "source": [
    "# Buscamos los mejores hiperparámetros que devolvieron el valor más bajo de RECM\n",
    "max_score = gridSearch_rf.cv_results_[\"mean_test_score\"].max()\n",
    "index_max_score = np.where(gridSearch_rf.cv_results_[\"mean_test_score\"] == max_score)[0][0]\n",
    "\n",
    "best_set_of_params = gridSearch_rf.cv_results_[\"params\"][index_max_score]\n",
    "\n",
    "print(f'Mejores hiperparámetros: {best_set_of_params} | Mejor RECM: {-max_score:.3f}')"
   ]
  },
  {
   "cell_type": "markdown",
   "metadata": {},
   "source": [
    "**ENTRENAMIENTO DE MODELO**"
   ]
  },
  {
   "cell_type": "code",
   "execution_count": 74,
   "metadata": {},
   "outputs": [
    {
     "name": "stdout",
     "output_type": "stream",
     "text": [
      "RECM Bosque Aleatorio: 2271.996\n",
      "Tiempo de entrenamiento: 11.424s\n",
      "Tiempo de prueba: 0.200s\n"
     ]
    }
   ],
   "source": [
    "# Entrenamos nuestro modelo con los mejores hiperparámetros y realizamos predicciones en el conjunto de prueba\n",
    "start_train = time.time()\n",
    "rf_model = RandomForestRegressor(random_state=12345, max_depth=6, n_estimators=40)\n",
    "rf_model.fit(x_train_ord, y_train_ord)\n",
    "end_train = time.time()\n",
    "\n",
    "start_test = time.time()\n",
    "y_pred_rf = rf_model.predict(x_test_ord)\n",
    "end_test = time.time()\n",
    "\n",
    "RECM_rf = mean_squared_error(y_test_ord, y_pred_rf)**0.5\n",
    "print(f'RECM Bosque Aleatorio: {RECM_rf:.3f}')\n",
    "print(f'Tiempo de entrenamiento: {end_train - start_train:.3f}s')\n",
    "print(f'Tiempo de prueba: {end_test - start_test:.3f}s') "
   ]
  },
  {
   "cell_type": "markdown",
   "metadata": {},
   "source": [
    "Para el modelo de Bosque Aleatorio los mejores hiperparámetros fueron {'max_depth': 6, 'n_estimators': 40}, alcanzando un RECM de 2271, con un tiempo de entrenamiento de ≈12s y un tiempo de prueba de ≈0.209s."
   ]
  },
  {
   "cell_type": "markdown",
   "metadata": {},
   "source": [
    "### CatBoost\n",
    "\n",
    "CatBoost es un método de potenciación de gradiente que utiliza un algoritmo voraz o greedy method para dividir sus árboles, es decir seleccionará aquella división del árbol que tenga la menor penalización, sin importar cómo esta decisión contribuye en la solución general óptima del modelo. A su vez, este método se basa en árboles simétricos que presentan una división consistente de nodos a la misma profundidad del árbol. Y lo más importante de este algoritmo es que no requiere un preprocesamiento de características categóricas, por lo que no es necesario aplicar OHE o codificación de etiquetas ya que el propio método asigna etiquetas a través del uso de permutaciones del conjunto de datos. Es así que trabajaremos directamente con nuestro dataset final `df_final` y pasaremos una lista de las características categóricas `cat_features` al entrenar el modelo. "
   ]
  },
  {
   "cell_type": "code",
   "execution_count": 75,
   "metadata": {},
   "outputs": [
    {
     "name": "stdout",
     "output_type": "stream",
     "text": [
      "Tamaño del conjunto de entrenamiento: (245303, 9), (245303,)\n",
      "Tamaño del conjunto de prueba: (81768, 9), (81768,)\n"
     ]
    }
   ],
   "source": [
    "# Establecemos las características y objetivo a partir del dataset final\n",
    "x = df_final.drop('price', axis=1)\n",
    "y = df_final['price']\n",
    "\n",
    "# Dividimos en conjunto de entrenamiento y prueba\n",
    "x_train, x_test, y_train, y_test = train_test_split(x, y, test_size=0.25, random_state=12345)\n",
    "\n",
    "# Comprobamos que los datos se dividieron correctamente\n",
    "print(f'Tamaño del conjunto de entrenamiento: {x_train.shape}, {y_train.shape}')\n",
    "print(f'Tamaño del conjunto de prueba: {x_test.shape}, {y_test.shape}')"
   ]
  },
  {
   "cell_type": "markdown",
   "metadata": {},
   "source": [
    "**AJUSTE DE HIPERPARÁMETROS**"
   ]
  },
  {
   "cell_type": "code",
   "execution_count": 76,
   "metadata": {},
   "outputs": [
    {
     "name": "stdout",
     "output_type": "stream",
     "text": [
      "Tiempo de ajuste de hiperparámetros CatBoost: 383.001s\n"
     ]
    }
   ],
   "source": [
    "# Definimos las características categóricas\n",
    "cat_features = ['vehicle_type', \n",
    "                'gearbox', \n",
    "                'model', \n",
    "                'fuel_type', \n",
    "                'brand']\n",
    "\n",
    "# Establecemos los hiperparámetros que vamos a ajustar\n",
    "params_catboost = {\n",
    "    'depth': [4, 6, 10],\n",
    "    'learning_rate': [0.1, 0.2, 0.5]    \n",
    "}\n",
    "\n",
    "# Llamamos al estimador que utilizaremos, en este caso CatBoostRegressor y los pasamos a GridSearchCv\n",
    "catboost_est = CatBoostRegressor(iterations=100, cat_features=cat_features, verbose=False, loss_function='RMSE')\n",
    "\n",
    "gridSearch_catboost = GridSearchCV(\n",
    "    estimator=catboost_est,\n",
    "    param_grid=params_catboost,\n",
    "    scoring='neg_root_mean_squared_error',\n",
    "    cv=3  \n",
    ")\n",
    "\n",
    "# Entrenamos el modelo en búsqueda de los hiperparámetros que lancen el menor RECM\n",
    "start = time.time()\n",
    "gridSearch_catboost.fit(x_train, y_train)\n",
    "end = time.time()\n",
    "print(f'Tiempo de ajuste de hiperparámetros CatBoost: {end-start:.3f}s')"
   ]
  },
  {
   "cell_type": "code",
   "execution_count": 77,
   "metadata": {},
   "outputs": [
    {
     "name": "stdout",
     "output_type": "stream",
     "text": [
      "Mejores hiperparámetros: {'depth': 10, 'learning_rate': 0.5} | Mejor RECM: 1677.884\n"
     ]
    }
   ],
   "source": [
    "# Buscamos los mejores hiperparámetros del modelo \n",
    "max_score = gridSearch_catboost.cv_results_[\"mean_test_score\"].max()\n",
    "index_max_score = np.where(gridSearch_catboost.cv_results_[\"mean_test_score\"] == max_score)[0][0]\n",
    "\n",
    "best_set_of_params = gridSearch_catboost.cv_results_[\"params\"][index_max_score]\n",
    "\n",
    "print(f'Mejores hiperparámetros: {best_set_of_params} | Mejor RECM: {-max_score:.3f}')"
   ]
  },
  {
   "cell_type": "markdown",
   "metadata": {},
   "source": [
    "**ENTRENAMIENTO DEL MODELO**"
   ]
  },
  {
   "cell_type": "code",
   "execution_count": 78,
   "metadata": {},
   "outputs": [
    {
     "name": "stdout",
     "output_type": "stream",
     "text": [
      "RECM CatBoost: 1648.352\n",
      "Tiempo de entrenamiento: 29.467s\n",
      "Tiempo de prueba: 0.138s\n"
     ]
    }
   ],
   "source": [
    "# Entrenamos nuestro modelo con los mejores hiperparámetros y realizamos predicciones en el conjunto de prueba\n",
    "catboost_model = CatBoostRegressor(iterations=100, \n",
    "                                  depth=10,\n",
    "                                  learning_rate=0.5,\n",
    "                                  loss_function='RMSE',\n",
    "                                  random_seed=12345)\n",
    "\n",
    "start_train = time.time()\n",
    "catboost_model.fit(x_train, y_train, cat_features=cat_features, verbose=False)\n",
    "end_train = time.time()\n",
    "\n",
    "start_test = time.time()\n",
    "y_pred_cat = catboost_model.predict(x_test)\n",
    "end_test = time.time()\n",
    "\n",
    "RECM_catboost = mean_squared_error(y_test, y_pred_cat)**0.5\n",
    "print(f'RECM CatBoost: {RECM_catboost:.3f}')\n",
    "print(f'Tiempo de entrenamiento: {end_train - start_train:.3f}s')\n",
    "print(f'Tiempo de prueba: {end_test - start_test:.3f}s') "
   ]
  },
  {
   "cell_type": "markdown",
   "metadata": {},
   "source": [
    "El método de potenciación de gradiente CatBoost alcanzó un RECM de 1648 con los hiperparámetros {'iterations'=100, depth': 10, 'learning_rate': 0.5}. El tiempo de entrenamiento fue de ≈29.76s y el de prueba fue de ≈0.14s."
   ]
  },
  {
   "cell_type": "markdown",
   "metadata": {},
   "source": [
    "### LightGBM\n",
    "\n",
    "El método de potenciación de gradiente LightGBM utiliza árboles asimétricos y depende de los cálculos del árbol, por lo que divide la hoja del árbol con el mejor ajuste, de esta manera produce una mayor precisión y disminuye los errores que pueden ocurrir al utilizar el cálculo por niveles. Al igual que Catboost puede procesar características categóricas, pero no utiliza one-hot encoding. Es necesario transformar previamente las características a tipo entero ya que no acepta variables de tipo string u objeto, también se puede optar por cambiar las características categóricas a tipo 'category', que es lo que vamos a realizar a continuación para poder entrenar nuestro modelo. \n",
    "\n",
    " "
   ]
  },
  {
   "cell_type": "code",
   "execution_count": 79,
   "metadata": {},
   "outputs": [
    {
     "name": "stdout",
     "output_type": "stream",
     "text": [
      "Tamaño del conjunto de entrenamiento: (245303, 9), (245303,)\n",
      "Tamaño del conjunto de prueba: (81768, 9), (81768,)\n"
     ]
    }
   ],
   "source": [
    "# Transformamos características categóricas a tipo 'category'\n",
    "for feature in cat_features:\n",
    "    df_final[feature] = df_final[feature].astype('category')\n",
    "    \n",
    "# Establecemos las características y objetivo a partir del dataset final\n",
    "x_gbm = df_final.drop('price', axis=1)\n",
    "y_gbm = df_final['price']\n",
    "\n",
    "# Dividimos en conjunto de entrenamiento y prueba\n",
    "x_train_gbm, x_test_gbm, y_train_gbm, y_test_gbm = train_test_split(x_gbm, y_gbm, test_size=0.25, random_state=12345)\n",
    "\n",
    "# Comprobamos que los datos se dividieron correctamente\n",
    "print(f'Tamaño del conjunto de entrenamiento: {x_train_gbm.shape}, {y_train_gbm.shape}')\n",
    "print(f'Tamaño del conjunto de prueba: {x_test_gbm.shape}, {y_test_gbm.shape}')"
   ]
  },
  {
   "cell_type": "markdown",
   "metadata": {},
   "source": [
    "**AJUSTE DE HIPERPARÁMETROS**"
   ]
  },
  {
   "cell_type": "code",
   "execution_count": 80,
   "metadata": {},
   "outputs": [
    {
     "name": "stdout",
     "output_type": "stream",
     "text": [
      "Tiempo de ajuste de hiperparámetros LightGBM: 178.378s\n"
     ]
    }
   ],
   "source": [
    "# Establecemos los hiperparámetros que vamos a comparar\n",
    "params_lightgbm = {\n",
    "    'n_estimators': [100, 300],\n",
    "    'learning_rate': [0.1, 0.2, 0.5],\n",
    "    'num_leaves': [10, 20]\n",
    "}\n",
    "\n",
    "# Establecemos el estimador que utilizaremos y llamamos a la función GridSearchCV\n",
    "lightgbm_est = LGBMRegressor()\n",
    "\n",
    "gridSearch_lightgbm = GridSearchCV(\n",
    "    estimator=lightgbm_est,\n",
    "    param_grid=params_lightgbm,\n",
    "    scoring='neg_root_mean_squared_error',\n",
    "    cv=3  \n",
    ")\n",
    "\n",
    "# Entrenamos nuestro modelo en búsqueda de los mejor hiperparámetros\n",
    "start = time.time()\n",
    "gridSearch_lightgbm.fit(x_train_gbm, y_train_gbm)\n",
    "end = time.time()\n",
    "print(f'Tiempo de ajuste de hiperparámetros LightGBM: {end-start:.3f}s')"
   ]
  },
  {
   "cell_type": "code",
   "execution_count": 81,
   "metadata": {},
   "outputs": [
    {
     "name": "stdout",
     "output_type": "stream",
     "text": [
      "Mejores hiperparámetros: {'learning_rate': 0.2, 'n_estimators': 300, 'num_leaves': 20} | Mejor RECM: 1640.058\n"
     ]
    }
   ],
   "source": [
    "# Buscamos los mejores hiperparámetros del modelo \n",
    "max_score = gridSearch_lightgbm.cv_results_[\"mean_test_score\"].max()\n",
    "index_max_score = np.where(gridSearch_lightgbm.cv_results_[\"mean_test_score\"] == max_score)[0][0]\n",
    "\n",
    "best_set_of_params = gridSearch_lightgbm.cv_results_[\"params\"][index_max_score]\n",
    "\n",
    "print(f'Mejores hiperparámetros: {best_set_of_params} | Mejor RECM: {-max_score:.3f}')"
   ]
  },
  {
   "cell_type": "markdown",
   "metadata": {},
   "source": [
    "**ENTRENAMIENTO MODELO**"
   ]
  },
  {
   "cell_type": "code",
   "execution_count": 82,
   "metadata": {},
   "outputs": [
    {
     "name": "stdout",
     "output_type": "stream",
     "text": [
      "RECM LightGBM: 1616.837\n",
      "Tiempo de entrenamiento: 7.493s\n",
      "Tiempo de prueba: 1.907s\n"
     ]
    }
   ],
   "source": [
    "# Entrenamos nuestro modelo con los mejores hiperparámetros y realizamos predicciones en el conjunto de prueba\n",
    "lightgbm_model = LGBMRegressor(n_estimators=300, \n",
    "                                  learning_rate=0.2,\n",
    "                                  num_leaves=20,\n",
    "                                  random_state=12345)\n",
    "\n",
    "start_train = time.time()\n",
    "lightgbm_model.fit(x_train_gbm, y_train_gbm)\n",
    "end_train = time.time()\n",
    "\n",
    "start_test = time.time()\n",
    "y_pred_gbm = lightgbm_model.predict(x_test_gbm)\n",
    "end_test = time.time()\n",
    "\n",
    "RECM_lightgbm = mean_squared_error(y_test_gbm, y_pred_gbm)**0.5\n",
    "print(f'RECM LightGBM: {RECM_lightgbm:.3f}')\n",
    "print(f'Tiempo de entrenamiento: {end_train - start_train:.3f}s')\n",
    "print(f'Tiempo de prueba: {end_test - start_test:.3f}s') "
   ]
  },
  {
   "cell_type": "markdown",
   "metadata": {},
   "source": [
    "Para LightGBM los mejores hiperparámetros fueron {'learning_rate': 0.2, 'n_estimators': 300, 'num_leaves': 20}, el tiempo de entrenamiento fue de ≈6.59s y el tiempo de prueba de ≈1.897s, alcanzando un RECM de 1616."
   ]
  },
  {
   "cell_type": "markdown",
   "metadata": {},
   "source": [
    "### XGBoost\n",
    "\n",
    "XGBoost es un método de potenciación de gradiente que utiliza árboles asimétricos al igual que LightGBM, pero se diferencia en la forma cómo crecen sus árboles, los cuales crecen por niveles no por sus hojas, por lo que se obtienen árboles más complejos y grandes que hacen que el modelo tome más tiempo en realizar predicciones y entrenarse. Así mismo, a diferencia de LightGBM y Catboost, XGBoost no tiene su propia implementación para características categóricas y solo acepta características numéricas, por lo que requiere un preprocesamiento a través de One-Hot Encoding para poder procesar datos categóricos. Por esta razón, utilizaremos nuestros conjunto de entrenamiento y prueba que ya fueron preprocesados a través OHE durante la regresión lineal `x_train_ohe, x_test_ohe`. \n",
    "\n",
    "**Nota**: debido a que el ajuste de hiperparámetros para este modelo tomó cerca de una hora y media, el código se presentará como comentarios para no incrementar el tiempo de ejecución del kernel. \n",
    "\n",
    "**AJUSTE HIPERPARÁMETROS**"
   ]
  },
  {
   "cell_type": "code",
   "execution_count": 97,
   "metadata": {},
   "outputs": [
    {
     "name": "stdout",
     "output_type": "stream",
     "text": [
      "Tiempo de ajuste de hiperparámetros XGBoost: 4742.121s\n"
     ]
    }
   ],
   "source": [
    "# # Establecemos un conjunto de hiperparámetros para analizarlos\n",
    "# params_xgboost = {\n",
    "#     'max_depth': [4, 6, 8],\n",
    "#     'n_estimators': [50, 100]\n",
    "\n",
    "# }\n",
    "\n",
    "# # Establecemos el estimador y llamamos a GridSearchCV\n",
    "# xboost_est = XGBRegressor()\n",
    "\n",
    "# gridSearch_xboost = GridSearchCV(\n",
    "#     estimator=xboost_est,\n",
    "#     param_grid=params_xgboost,\n",
    "#     scoring='neg_root_mean_squared_error',\n",
    "#     cv=3  \n",
    "# )\n",
    "\n",
    "# # Entrenamos el modelo en búsqueda de los mejores hiperparámetros\n",
    "# start = time.time()\n",
    "# gridSearch_xboost.fit(x_train_ohe, y_train_ohe)\n",
    "# end = time.time()\n",
    "# print(f'Tiempo de ajuste de hiperparámetros XGBoost: {end-start:.3f}s')"
   ]
  },
  {
   "cell_type": "markdown",
   "metadata": {},
   "source": [
    "Tiempo de ajuste de hiperparámetros XGBoost: 4742.121s"
   ]
  },
  {
   "cell_type": "code",
   "execution_count": 98,
   "metadata": {},
   "outputs": [
    {
     "name": "stdout",
     "output_type": "stream",
     "text": [
      "Mejores hiperparámetros: {'max_depth': 8, 'n_estimators': 100} | Mejor RECM: 1661.763\n"
     ]
    }
   ],
   "source": [
    "# # Buscamos los mejores hiperparámetros del modelo \n",
    "# max_score = gridSearch_xboost.cv_results_[\"mean_test_score\"].max()\n",
    "# index_max_score = np.where(gridSearch_xboost.cv_results_[\"mean_test_score\"] == max_score)[0][0]\n",
    "\n",
    "# best_set_of_params = gridSearch_xboost.cv_results_[\"params\"][index_max_score]\n",
    "\n",
    "# print(f'Mejores hiperparámetros: {best_set_of_params} | Mejor RECM: {-max_score:.3f}')"
   ]
  },
  {
   "cell_type": "markdown",
   "metadata": {},
   "source": [
    "Mejores hiperparámetros: {'max_depth': 8, 'n_estimators': 100} | Mejor RECM: 1661.763\n",
    "\n",
    "**ENTRENAMIENTO MODELO**"
   ]
  },
  {
   "cell_type": "code",
   "execution_count": 85,
   "metadata": {},
   "outputs": [
    {
     "name": "stdout",
     "output_type": "stream",
     "text": [
      "RECM XGBoost: 1634.932\n",
      "Tiempo de entrenamiento: 623.662s\n",
      "Tiempo de prueba: 1.491s\n"
     ]
    }
   ],
   "source": [
    "# Entrenamos nuestro modelo con los mejores hiperparámetros y realizamos predicciones en el conjunto de prueba\n",
    "xgboost_model = XGBRegressor(random_state=12345, max_depth=8, n_estimators= 100)\n",
    "\n",
    "start_train = time.time()\n",
    "xgboost_model.fit(x_train_ohe, y_train_ohe)\n",
    "end_train = time.time()\n",
    "\n",
    "start_test = time.time()\n",
    "y_pred_xgb = xgboost_model.predict(x_test_ohe)\n",
    "end_test = time.time()\n",
    "\n",
    "RECM_XGBoost = mean_squared_error(y_test_ohe, y_pred_xgb)**0.5\n",
    "print(f'RECM XGBoost: {RECM_XGBoost:.3f}')\n",
    "print(f'Tiempo de entrenamiento: {end_train - start_train:.3f}s')\n",
    "print(f'Tiempo de prueba: {end_test - start_test:.3f}s') "
   ]
  },
  {
   "cell_type": "markdown",
   "metadata": {},
   "source": [
    "El tiempo de ajuste de hiperparámetros para XGBoost fue el más alto registrado, de casi una hora y media. Los mejores hiperparámetros obtenidos fueron {'n_estimators': 100, 'max_depth': 8} que generaron un RECM de 1634 y un tiempo de entrenamiento ≈631s y la velocidad de predicciones fue de ≈1.48s"
   ]
  },
  {
   "cell_type": "markdown",
   "metadata": {},
   "source": [
    "## Análisis de modelos\n",
    "\n",
    "Una vez entrenados nuestros modelos vamos a realizar un análisis de su velocidad y calidad. Para esto trazaremos una tabla con los valores de tiempo registrados tanto en el ajuste de parámetros, entrenamiento y prueba. Como ya se mencionó anteriormente, el tiempo suele cambiar al correr el kernel por lo que son valores aproximados. También se registrará los valores de RECM que nos ayudarán a establecer el modelo con el mejor rendimiento o menor erro. Por otro lado, vamos a trazar gráficos de barras para visualizar mejor los resultados obtenidos."
   ]
  },
  {
   "cell_type": "code",
   "execution_count": 94,
   "metadata": {},
   "outputs": [
    {
     "data": {
      "text/html": [
       "<div>\n",
       "<style scoped>\n",
       "    .dataframe tbody tr th:only-of-type {\n",
       "        vertical-align: middle;\n",
       "    }\n",
       "\n",
       "    .dataframe tbody tr th {\n",
       "        vertical-align: top;\n",
       "    }\n",
       "\n",
       "    .dataframe thead th {\n",
       "        text-align: right;\n",
       "    }\n",
       "</style>\n",
       "<table border=\"1\" class=\"dataframe\">\n",
       "  <thead>\n",
       "    <tr style=\"text-align: right;\">\n",
       "      <th></th>\n",
       "      <th>modelo</th>\n",
       "      <th>tiempo_ajuste_hiperparámetros</th>\n",
       "      <th>tiempo_de_entrenamiento</th>\n",
       "      <th>tiempo_de_prueba</th>\n",
       "      <th>RECM</th>\n",
       "    </tr>\n",
       "  </thead>\n",
       "  <tbody>\n",
       "    <tr>\n",
       "      <th>0</th>\n",
       "      <td>Regresión Lineal</td>\n",
       "      <td>0.000</td>\n",
       "      <td>20.362</td>\n",
       "      <td>0.136</td>\n",
       "      <td>2844.635596</td>\n",
       "    </tr>\n",
       "    <tr>\n",
       "      <th>1</th>\n",
       "      <td>Árbol de Decisión</td>\n",
       "      <td>49.657</td>\n",
       "      <td>0.398</td>\n",
       "      <td>0.009</td>\n",
       "      <td>2331.312358</td>\n",
       "    </tr>\n",
       "    <tr>\n",
       "      <th>2</th>\n",
       "      <td>Bosque Aleatorio</td>\n",
       "      <td>155.392</td>\n",
       "      <td>11.424</td>\n",
       "      <td>0.200</td>\n",
       "      <td>2271.995536</td>\n",
       "    </tr>\n",
       "    <tr>\n",
       "      <th>3</th>\n",
       "      <td>CatBoost</td>\n",
       "      <td>383.001</td>\n",
       "      <td>29.467</td>\n",
       "      <td>0.138</td>\n",
       "      <td>1648.351680</td>\n",
       "    </tr>\n",
       "    <tr>\n",
       "      <th>4</th>\n",
       "      <td>LightGBM</td>\n",
       "      <td>178.378</td>\n",
       "      <td>7.493</td>\n",
       "      <td>1.907</td>\n",
       "      <td>1616.836760</td>\n",
       "    </tr>\n",
       "    <tr>\n",
       "      <th>5</th>\n",
       "      <td>XGBoost</td>\n",
       "      <td>4874.652</td>\n",
       "      <td>623.662</td>\n",
       "      <td>1.491</td>\n",
       "      <td>1634.932027</td>\n",
       "    </tr>\n",
       "  </tbody>\n",
       "</table>\n",
       "</div>"
      ],
      "text/plain": [
       "              modelo  tiempo_ajuste_hiperparámetros  tiempo_de_entrenamiento  \\\n",
       "0   Regresión Lineal                          0.000                   20.362   \n",
       "1  Árbol de Decisión                         49.657                    0.398   \n",
       "2   Bosque Aleatorio                        155.392                   11.424   \n",
       "3           CatBoost                        383.001                   29.467   \n",
       "4           LightGBM                        178.378                    7.493   \n",
       "5            XGBoost                       4874.652                  623.662   \n",
       "\n",
       "   tiempo_de_prueba         RECM  \n",
       "0             0.136  2844.635596  \n",
       "1             0.009  2331.312358  \n",
       "2             0.200  2271.995536  \n",
       "3             0.138  1648.351680  \n",
       "4             1.907  1616.836760  \n",
       "5             1.491  1634.932027  "
      ]
     },
     "execution_count": 94,
     "metadata": {},
     "output_type": "execute_result"
    }
   ],
   "source": [
    "# Trazamos una tabla con los tiempos y puntajes RECM obtenidos\n",
    "models_table = pd.DataFrame({\n",
    "    'modelo': ['Regresión Lineal', 'Árbol de Decisión', 'Bosque Aleatorio', 'CatBoost', 'LightGBM', 'XGBoost'],\n",
    "    'tiempo_ajuste_hiperparámetros' : [0, 49.657, 155.392, 383.001, 178.378, 4874.652],\n",
    "    'tiempo_de_entrenamiento' : [20.362, 0.398, 11.424, 29.467, 7.493, 623.662],\n",
    "    'tiempo_de_prueba' : [0.136, 0.009, 0.200, 0.138, 1.907, 1.491],\n",
    "    'RECM': [RECM_lr,  RECM_dt, RECM_rf, RECM_catboost, RECM_lightgbm, RECM_XGBoost]\n",
    "     \n",
    "})\n",
    "\n",
    "models_table"
   ]
  },
  {
   "cell_type": "code",
   "execution_count": 96,
   "metadata": {},
   "outputs": [
    {
     "data": {
      "image/png": "[encoded data removed]",
      "text/plain": [
       "<Figure size 1440x864 with 4 Axes>"
      ]
     },
     "metadata": {},
     "output_type": "display_data"
    }
   ],
   "source": [
    "# Trazamos gráficos de barras a través de subplots\n",
    "fig = plt.subplots(nrows=2, ncols=2, figsize=(20, 12))\n",
    "\n",
    "sns.set_style('whitegrid')\n",
    "\n",
    "for n, col in enumerate(['tiempo_ajuste_hiperparámetros', 'tiempo_de_entrenamiento', 'tiempo_de_prueba', 'RECM']):\n",
    "    ax = plt.subplot(3, 2, n + 1)\n",
    "    sns.barplot(x=col, y='modelo', data=models_table, ax=ax, palette=(\"Spectral\"))\n",
    "\n",
    "plt.suptitle('Análisis de velocidad y calidad por modelo', fontsize=19)\n",
    "plt.tight_layout()\n",
    "plt.show()"
   ]
  },
  {
   "cell_type": "markdown",
   "metadata": {},
   "source": [
    "Establecimos como prueba de cordura a nuestro modelo de regresión lineal y decidimos que cualquier modelo que presentara un puntaje superior a este no estaría correctamente ajustado, el valor base RECM  obtenido fue de 2844.635. Si comparamos este puntaje con los puntajes obtenidos por los cinco modelos entrenados podemos afirmar que todos nuestros modelos pasaron la prueba de cordura, presentando un RECM inferior al valor base establecido y, por tanto, son mejores que la aleatoriedad. \n",
    "\n",
    "Los métodos de pontenciación de gradiente presentaron los valores RECM más bajos, en comparación a modelos de árboles de decisión y bosques aleatorios, siendo el modelo LightGBM el que presentó el puntaje RECM más bajo de 1616.836, seguido del modelo XGBoost con 1634.932 y finalmente CatBoost registró 1648.35. Así mismo, de los tres métodos de boosting, el que obtuvo el tiempo de ajuste de hiperparámetros y entrenamiento más bajo fue LightGBM, sin embargo fue el más lento en realizar predicciones. Esto se debe al tipo de método de división que utiliza LightGBM, el cual considera las instancias de datos con gradientes grandes y realiza un muestreo aleatorio para datos con gradientes pequeños, de esta manera encuentra el punto de división óptimo y mantiene la precisión de árboles aprendidos, por lo que presenta un tiempo de entrenamiento más rápido. \n",
    "\n",
    "El segundo mejor puntaje corresponde a XGBoost pero su velocidad fue la más lenta de todos los modelos entrenados, llegando a 1h30m para ajustar hiperparámetros y cerca de 10 minutos para entrenar el modelo. Este comportamiento está relacionado, al igual que otros modelos de potenciación, con la forma de división de árboles, presentando un crecimiento de árboles a través de niveles, y además de un algoritmo que ordena las características de acuerdo a su importancia y luego decide la división de árboles en base a cada característica y el valor de la misma que resulte en una mayor ganancia. También hay que considerar que este modelo no tiene su propia implementación para procesar características categóricas, lo que lo vuelve más lento al utilizar técnicas de codificación como One-Hot. \n",
    "\n",
    "Por último, el método de potenciación que obtuvo el error más alto fue CatBoost, aunque las diferencias entre cada método no son tan significativas. El tiempo de ajuste fue de casi seis minutos, inferior a XGBoost pero no tan rápido como LightGBM. Esto podría relacionarse con su implementación para procesar características categóricas, que a diferencia de XGBoost, no requieren un preprocesamiento, sino el mismo método realiza la codificación. A su vez, hay que considerar que solo se entrenó un conjunto de 100 árboles, quizás al incrementar el tamaño del conjunto el valor RECM sea menor. \n"
   ]
  },
  {
   "cell_type": "markdown",
   "metadata": {},
   "source": [
    "## Conclusiones\n",
    "\n",
    "**Preprocesamiento de datos**\n",
    "1. El conjunto de datos presentó ciertos problemas que requirieron un preprocesamiento adecuado. El nombre de las columnas se transformó en minúsculas, los valores duplicados fueron eliminados y el tipo de dato de las características de fecha se pasaron a tipo datetime. Los valores ausentes fueron reemplazados en función de la moda de características como el modelo, marca o año de matriculación del vehículo. Para aquellos valores que no tenía una dependencia obvia hacia otras variables, se decidió construir un modelo de Regresión Logística que permitió imputar si un auto presentó reparaciones o no. \n",
    "2. Se registraron artefactos extraños para el año de matriculación, precio, potencia y mes de matriculación. En estos casos se decició eliminar los valores extremos como vehículos registrados en el año 9999, precios inferiores a 50 dólares o potencias de hasta 20000cv. Aquellas potencias con valores cercanos a cero fueron imputadas en función del modelo del vehículo, ya que al eliminarlas se perdía un 11% del conjunto de datos. Se decidió calcular la edad del vehículo a partir del años de matriculación y el año de creación del perfil, de esta manera reducimos el número de características que procesará nuestro modelo. \n",
    "3. Antes del entrenamiento de modelos se decidió prescindir de ciertas características que no ayudarían a la predicción del precio de un vehículo: date_crawled, registration_year, registration_month, date_created, postal_code, last_seen.\n",
    "\n",
    "**Entrenamiento modelos**\n",
    "\n",
    "4. Se entrenaron seis modelos: regresión lineal, árbol de decisión, bosque aleatorio, CatBoost, LightGBM y XGBoost. Para cada modelo se realizó un ajuste de hiperparámetros a traves de GridSearchCV, y en base a los mejores hiperparámetros se entrenó cada modelo y se realizaron predicciones. Se midió el tiempo de ajuste, entrenamiento y prueba, ya que Rusty Bargain busca un modelo que no solo tenga calidad sino también velocidad. \n",
    "5. Para cada modelo se utilizaron diferentes métodos de preprocesamiento de características categóricas. En el caso de la regresión lineal y XGBoost se utilizó One-Hot Encoding, para árboles de decisión y bosque aleatorio se utilizó codificación de etiquetas Ordinal Encoder, para LightGBM se optó por transformar las categorías de tipo objeto a tipo categoría, y finalmente para CatBoost se utilizó nuestro dataset final sin valores ausentes y atípicos. \n",
    "6. **MODELO DE MEJOR CALIDAD Y VELOCIDAD**: el mejor modelo fue LightGBM con los siguientes hiperparámetros:{'learning_rate': 0.2, 'n_estimators': 300, 'num_leaves': 20}, alcanzando un RECM de 1616.83, con un tiempo de ajuste de ≈3 minutos, un tiempo de entrenamiento de ≈7 segundos y una velocidad de predicción de ≈2 segundos. También una buena opción sería el método de potenciación de gradiente CatBoost, que a pesar de registrar el RECM más alto 1648, el tiempo de ajuste y entrenamiento no fue tan alto como XGBoost, además de que cuenta con su propia implementación para procesar características categóricas. "
   ]
  },
  {
   "cell_type": "markdown",
   "metadata": {},
   "source": [
    "# Lista de control"
   ]
  },
  {
   "cell_type": "markdown",
   "metadata": {},
   "source": [
    "Escribe 'x' para verificar. Luego presiona Shift+Enter"
   ]
  },
  {
   "cell_type": "markdown",
   "metadata": {},
   "source": [
    "- [x]  Jupyter Notebook está abierto\n",
    "- [x]  El código no tiene errores- [x]  Las celdas con el código han sido colocadas en orden de ejecución- [x]  Los datos han sido descargados y preparados- [x]  Los modelos han sido entrenados\n",
    "- [x]  Se realizó el análisis de velocidad y calidad de los modelos"
   ]
  }
 ],
 "metadata": {
  "kernelspec": {
   "display_name": "Python 3 (ipykernel)",
   "language": "python",
   "name": "python3"
  },
  "language_info": {
   "codemirror_mode": {
    "name": "ipython",
    "version": 3
   },
   "file_extension": ".py",
   "mimetype": "text/x-python",
   "name": "python",
   "nbconvert_exporter": "python",
   "pygments_lexer": "ipython3",
   "version": "3.9.12"
  },
  "toc": {
   "base_numbering": 1,
   "nav_menu": {},
   "number_sections": true,
   "sideBar": true,
   "skip_h1_title": true,
   "title_cell": "Tabla de contenidos",
   "title_sidebar": "Contents",
   "toc_cell": true,
   "toc_position": {
    "height": "calc(100% - 180px)",
    "left": "10px",
    "top": "150px",
    "width": "353.075px"
   },
   "toc_section_display": true,
   "toc_window_display": true
  }
 },
 "nbformat": 4,
 "nbformat_minor": 2
}
